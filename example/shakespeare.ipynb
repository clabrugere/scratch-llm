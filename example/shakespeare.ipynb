{
 "cells": [
  {
   "cell_type": "markdown",
   "metadata": {},
   "source": [
    "# Imports\n"
   ]
  },
  {
   "cell_type": "code",
   "execution_count": 1,
   "metadata": {},
   "outputs": [],
   "source": [
    "%load_ext autoreload\n",
    "%autoreload 2"
   ]
  },
  {
   "cell_type": "code",
   "execution_count": 2,
   "metadata": {},
   "outputs": [],
   "source": [
    "import sys\n",
    "\n",
    "sys.path.append(\"..\")\n",
    "\n",
    "import os\n",
    "import matplotlib.pyplot as plt\n",
    "import torch\n",
    "\n",
    "from model.llm import LLM\n",
    "from model.tokenizer import Tokenizer, train_tokenizer\n",
    "\n",
    "from helpers.dataset import NextTokenPredictionDataset\n",
    "from helpers.trainer import train\n",
    "from helpers.config import LLMConfig, TrainingConfig"
   ]
  },
  {
   "cell_type": "markdown",
   "metadata": {},
   "source": [
    "# Set config"
   ]
  },
  {
   "cell_type": "code",
   "execution_count": 3,
   "metadata": {},
   "outputs": [],
   "source": [
    "llm_config = LLMConfig(\n",
    "    vocab_size=512,\n",
    "    context_size=256,\n",
    "    dim_emb=512,\n",
    "    num_layers=4,\n",
    "    num_heads=4\n",
    ")\n",
    "\n",
    "train_config = TrainingConfig(\n",
    "    retrain_tokenizer=False,\n",
    "    batch_size=128,\n",
    "    learning_rate=1e-4,\n",
    "    max_steps=100,\n",
    "    log_frequency=1\n",
    ")"
   ]
  },
  {
   "cell_type": "markdown",
   "metadata": {},
   "source": [
    "# Prepare tokenizer and dataset\n"
   ]
  },
  {
   "cell_type": "code",
   "execution_count": 4,
   "metadata": {},
   "outputs": [],
   "source": [
    "input_file = \"../data/shakespeare/alllines.txt\"\n",
    "output_path = \"../data/shakespeare\"\n",
    "\n",
    "tokenizer_model_file = os.path.join(os.path.dirname(input_file), \"tokenizer.model\")\n",
    "if not os.path.exists(tokenizer_model_file) or train_config.retrain_tokenizer:\n",
    "    train_tokenizer(input_file, llm_config.vocab_size, tokenizer_model_file)\n",
    "\n",
    "tokenizer = Tokenizer(tokenizer_model_file)"
   ]
  },
  {
   "cell_type": "code",
   "execution_count": 5,
   "metadata": {},
   "outputs": [
    {
     "name": "stdout",
     "output_type": "stream",
     "text": [
      "['▁The', '▁r', 'o', 'le', '▁of', '▁the', '▁to', 'ke', 'n', 'i', 'z', 'er', '▁is', '▁to', '▁b', 'u', 'il', 'd', '▁a', '▁ma', 'pp', 'ing', '▁be', 't', 'w', 'e', 'en', '▁', 's', 'u', 'b', 'w', 'or', 'd', 's', '▁and', '▁to', 'ke', 'n', '▁in', 'd', 'ice', 's']\n"
     ]
    }
   ],
   "source": [
    "sentence = \"The role of the tokenizer is to build a mapping between subwords and token indices\"\n",
    "print(tokenizer.sp.EncodeAsPieces(sentence))\n",
    "\n",
    "assert tokenizer.decode(tokenizer.encode(sentence)) == sentence"
   ]
  },
  {
   "cell_type": "code",
   "execution_count": 6,
   "metadata": {},
   "outputs": [
    {
     "data": {
      "text/plain": [
       "(tensor([[  4, 289,  12, 184,  22,   6,  36,  13,  13, 208,  10, 306,   4,  12,\n",
       "           43,  15, 160, 205,   8, 169,   4,  33, 507,   4,   6, 291, 196,   4,\n",
       "           11,   6,   7, 126,  26,  12, 202, 277,   4,  11, 430,  12, 124,  19,\n",
       "          235,   7,  31,  27,  39,  58, 109, 330,   9,  48,   4,  50, 177, 126,\n",
       "            6, 266,   4,  50,   6, 163, 208,  18,  26, 312,  24,  29,  16, 134,\n",
       "           18,   4, 285,  72,  97, 199,   4,   6,   5,  25,  13, 121, 271,  39,\n",
       "          455,  27,  84, 131,  30,  35,   4, 203,  84, 131,  30,  35,   4, 194,\n",
       "           11,   6,  36,  56,  30,   4,  20,  84, 234,  63,   9,  91,  31,  35,\n",
       "            4, 203,  84,  91,  31,  35,   4, 430,  20, 430,  27,  20, 480, 339,\n",
       "           35,   4, 346, 365,   6, 291,  16,  37,  31,  53,   7,   4,  87,  28,\n",
       "           78,  35,  40, 112, 134, 322,  71, 168, 123,  62,  70,  32, 107,  45,\n",
       "           88,   4,  19, 511,  13,  23,  74,  11,   6,  37, 165,   9,   5,  24,\n",
       "           71, 300,  55,  11, 351,   5,  24, 185,   6, 176,  25,  47,   5,   5,\n",
       "            4, 297,  35, 144,  11, 292,   4,  20, 230, 135, 359,  31, 164,  24,\n",
       "          233,  95,  32, 220,  12, 170,   6,  37,  53,   7,  27,  17, 279, 358,\n",
       "           84, 234,  63,   9,  97,  68,  64,  26,  70, 314, 331,   6,   7,  31,\n",
       "           55,  63,   4, 103,  12,  87, 339, 161,  19, 226,  23,  10, 135, 102,\n",
       "           95,  32, 220,  48,   6,  37,  53,   7,   4,  12,  47,  32, 220,  48,\n",
       "            6,  37,  53,   7]], dtype=torch.int32),\n",
       " tensor([[289,  12, 184,  22,   6,  36,  13,  13, 208,  10, 306,   4,  12,  43,\n",
       "           15, 160, 205,   8, 169,   4,  33, 507,   4,   6, 291, 196,   4,  11,\n",
       "            6,   7, 126,  26,  12, 202, 277,   4,  11, 430,  12, 124,  19, 235,\n",
       "            7,  31,  27,  39,  58, 109, 330,   9,  48,   4,  50, 177, 126,   6,\n",
       "          266,   4,  50,   6, 163, 208,  18,  26, 312,  24,  29,  16, 134,  18,\n",
       "            4, 285,  72,  97, 199,   4,   6,   5,  25,  13, 121, 271,  39, 455,\n",
       "           27,  84, 131,  30,  35,   4, 203,  84, 131,  30,  35,   4, 194,  11,\n",
       "            6,  36,  56,  30,   4,  20,  84, 234,  63,   9,  91,  31,  35,   4,\n",
       "          203,  84,  91,  31,  35,   4, 430,  20, 430,  27,  20, 480, 339,  35,\n",
       "            4, 346, 365,   6, 291,  16,  37,  31,  53,   7,   4,  87,  28,  78,\n",
       "           35,  40, 112, 134, 322,  71, 168, 123,  62,  70,  32, 107,  45,  88,\n",
       "            4,  19, 511,  13,  23,  74,  11,   6,  37, 165,   9,   5,  24,  71,\n",
       "          300,  55,  11, 351,   5,  24, 185,   6, 176,  25,  47,   5,   5,   4,\n",
       "          297,  35, 144,  11, 292,   4,  20, 230, 135, 359,  31, 164,  24, 233,\n",
       "           95,  32, 220,  12, 170,   6,  37,  53,   7,  27,  17, 279, 358,  84,\n",
       "          234,  63,   9,  97,  68,  64,  26,  70, 314, 331,   6,   7,  31,  55,\n",
       "           63,   4, 103,  12,  87, 339, 161,  19, 226,  23,  10, 135, 102,  95,\n",
       "           32, 220,  48,   6,  37,  53,   7,   4,  12,  47,  32, 220,  48,   6,\n",
       "           37,  53,   7,   4]]))"
      ]
     },
     "execution_count": 6,
     "metadata": {},
     "output_type": "execute_result"
    }
   ],
   "source": [
    "# This helper class allow to generate batches of inputs and targets where targets last element is the next token to predict\n",
    "ds_train = NextTokenPredictionDataset(input_file, llm_config.context_size, tokenizer)\n",
    "\n",
    "ds_train.get_batch(batch_size=1)"
   ]
  },
  {
   "cell_type": "markdown",
   "metadata": {},
   "source": [
    "# Define model\n"
   ]
  },
  {
   "cell_type": "code",
   "execution_count": 7,
   "metadata": {},
   "outputs": [
    {
     "name": "stdout",
     "output_type": "stream",
     "text": [
      "total params: 8,927,744\n",
      "learnable params: 8,927,744\n",
      "LLM(\n",
      "  (token_embedding): Embedding(512, 512)\n",
      "  (emb_dropout): Dropout(p=0.0, inplace=False)\n",
      "  (transformer): Sequential(\n",
      "    (0): TransformerBlock(\n",
      "      (pos_encoding): CosinePositionalEncoding()\n",
      "      (norm_1): RMSNorm()\n",
      "      (multihead_attn): MultiHeadAttention(\n",
      "        (projection_query): Linear(in_features=512, out_features=512, bias=False)\n",
      "        (projection_key): Linear(in_features=512, out_features=512, bias=False)\n",
      "        (projection_value): Linear(in_features=512, out_features=512, bias=False)\n",
      "        (projection_out): Linear(in_features=512, out_features=512, bias=False)\n",
      "      )\n",
      "      (norm_2): RMSNorm()\n",
      "      (feed_forward): FeedForward(\n",
      "        (_layers): Sequential(\n",
      "          (0): Linear(in_features=512, out_features=512, bias=True)\n",
      "          (1): RMSNorm()\n",
      "          (2): SwiGLU(\n",
      "            (linear): Linear(in_features=512, out_features=1024, bias=True)\n",
      "          )\n",
      "          (3): Linear(in_features=512, out_features=512, bias=True)\n",
      "        )\n",
      "      )\n",
      "    )\n",
      "    (1): TransformerBlock(\n",
      "      (pos_encoding): CosinePositionalEncoding()\n",
      "      (norm_1): RMSNorm()\n",
      "      (multihead_attn): MultiHeadAttention(\n",
      "        (projection_query): Linear(in_features=512, out_features=512, bias=False)\n",
      "        (projection_key): Linear(in_features=512, out_features=512, bias=False)\n",
      "        (projection_value): Linear(in_features=512, out_features=512, bias=False)\n",
      "        (projection_out): Linear(in_features=512, out_features=512, bias=False)\n",
      "      )\n",
      "      (norm_2): RMSNorm()\n",
      "      (feed_forward): FeedForward(\n",
      "        (_layers): Sequential(\n",
      "          (0): Linear(in_features=512, out_features=512, bias=True)\n",
      "          (1): RMSNorm()\n",
      "          (2): SwiGLU(\n",
      "            (linear): Linear(in_features=512, out_features=1024, bias=True)\n",
      "          )\n",
      "          (3): Linear(in_features=512, out_features=512, bias=True)\n",
      "        )\n",
      "      )\n",
      "    )\n",
      "    (2): TransformerBlock(\n",
      "      (pos_encoding): CosinePositionalEncoding()\n",
      "      (norm_1): RMSNorm()\n",
      "      (multihead_attn): MultiHeadAttention(\n",
      "        (projection_query): Linear(in_features=512, out_features=512, bias=False)\n",
      "        (projection_key): Linear(in_features=512, out_features=512, bias=False)\n",
      "        (projection_value): Linear(in_features=512, out_features=512, bias=False)\n",
      "        (projection_out): Linear(in_features=512, out_features=512, bias=False)\n",
      "      )\n",
      "      (norm_2): RMSNorm()\n",
      "      (feed_forward): FeedForward(\n",
      "        (_layers): Sequential(\n",
      "          (0): Linear(in_features=512, out_features=512, bias=True)\n",
      "          (1): RMSNorm()\n",
      "          (2): SwiGLU(\n",
      "            (linear): Linear(in_features=512, out_features=1024, bias=True)\n",
      "          )\n",
      "          (3): Linear(in_features=512, out_features=512, bias=True)\n",
      "        )\n",
      "      )\n",
      "    )\n",
      "    (3): TransformerBlock(\n",
      "      (pos_encoding): CosinePositionalEncoding()\n",
      "      (norm_1): RMSNorm()\n",
      "      (multihead_attn): MultiHeadAttention(\n",
      "        (projection_query): Linear(in_features=512, out_features=512, bias=False)\n",
      "        (projection_key): Linear(in_features=512, out_features=512, bias=False)\n",
      "        (projection_value): Linear(in_features=512, out_features=512, bias=False)\n",
      "        (projection_out): Linear(in_features=512, out_features=512, bias=False)\n",
      "      )\n",
      "      (norm_2): RMSNorm()\n",
      "      (feed_forward): FeedForward(\n",
      "        (_layers): Sequential(\n",
      "          (0): Linear(in_features=512, out_features=512, bias=True)\n",
      "          (1): RMSNorm()\n",
      "          (2): SwiGLU(\n",
      "            (linear): Linear(in_features=512, out_features=1024, bias=True)\n",
      "          )\n",
      "          (3): Linear(in_features=512, out_features=512, bias=True)\n",
      "        )\n",
      "      )\n",
      "    )\n",
      "  )\n",
      "  (projection_head): Linear(in_features=512, out_features=512, bias=True)\n",
      ")\n"
     ]
    }
   ],
   "source": [
    "model = LLM(\n",
    "    vocab_size=llm_config.vocab_size,\n",
    "    context_size=llm_config.context_size,\n",
    "    dim_emb=llm_config.dim_emb,\n",
    "    num_layers=llm_config.num_layers,\n",
    "    attn_num_heads=llm_config.num_heads,\n",
    ")\n",
    "\n",
    "print(f\"total params: {sum(p.numel() for p in model.parameters()):,d}\")\n",
    "print(f\"learnable params: {sum(p.numel() for p in model.parameters() if p.requires_grad):,d}\")\n",
    "\n",
    "print(model)"
   ]
  },
  {
   "cell_type": "markdown",
   "metadata": {},
   "source": [
    "# Train model\n"
   ]
  },
  {
   "cell_type": "code",
   "execution_count": 8,
   "metadata": {},
   "outputs": [
    {
     "name": "stdout",
     "output_type": "stream",
     "text": [
      "Adjusting learning rate of group 0 to 1.0000e-03.\n",
      "Adjusting learning rate of group 0 to 9.9978e-04.\n",
      "Adjusting learning rate of group 0 to 9.9911e-04.\n",
      "Adjusting learning rate of group 0 to 9.9800e-04.\n",
      "Adjusting learning rate of group 0 to 9.9645e-04.\n",
      "Adjusting learning rate of group 0 to 9.9446e-04.\n",
      "Adjusting learning rate of group 0 to 9.9203e-04.\n",
      "Adjusting learning rate of group 0 to 9.8916e-04.\n",
      "Adjusting learning rate of group 0 to 9.8586e-04.\n",
      "Adjusting learning rate of group 0 to 9.8213e-04.\n",
      "Adjusting learning rate of group 0 to 9.7798e-04.\n",
      "Adjusting learning rate of group 0 to 9.7340e-04.\n",
      "Adjusting learning rate of group 0 to 9.6840e-04.\n",
      "Adjusting learning rate of group 0 to 9.6299e-04.\n",
      "Adjusting learning rate of group 0 to 9.5717e-04.\n",
      "Adjusting learning rate of group 0 to 9.5095e-04.\n",
      "Adjusting learning rate of group 0 to 9.4434e-04.\n",
      "Adjusting learning rate of group 0 to 9.3733e-04.\n",
      "Adjusting learning rate of group 0 to 9.2995e-04.\n",
      "Adjusting learning rate of group 0 to 9.2219e-04.\n",
      "Adjusting learning rate of group 0 to 9.1406e-04.\n",
      "Adjusting learning rate of group 0 to 9.0557e-04.\n",
      "Adjusting learning rate of group 0 to 8.9673e-04.\n",
      "Adjusting learning rate of group 0 to 8.8755e-04.\n",
      "Adjusting learning rate of group 0 to 8.7804e-04.\n",
      "Adjusting learning rate of group 0 to 8.6820e-04.\n",
      "Adjusting learning rate of group 0 to 8.5805e-04.\n",
      "Adjusting learning rate of group 0 to 8.4759e-04.\n",
      "Adjusting learning rate of group 0 to 8.3684e-04.\n",
      "Adjusting learning rate of group 0 to 8.2581e-04.\n",
      "Adjusting learning rate of group 0 to 8.1450e-04.\n",
      "Adjusting learning rate of group 0 to 8.0294e-04.\n",
      "Adjusting learning rate of group 0 to 7.9112e-04.\n",
      "Adjusting learning rate of group 0 to 7.7907e-04.\n",
      "Adjusting learning rate of group 0 to 7.6679e-04.\n",
      "Adjusting learning rate of group 0 to 7.5430e-04.\n",
      "Adjusting learning rate of group 0 to 7.4160e-04.\n",
      "Adjusting learning rate of group 0 to 7.2872e-04.\n",
      "Adjusting learning rate of group 0 to 7.1566e-04.\n",
      "Adjusting learning rate of group 0 to 7.0243e-04.\n",
      "Adjusting learning rate of group 0 to 6.8906e-04.\n",
      "Adjusting learning rate of group 0 to 6.7555e-04.\n",
      "Adjusting learning rate of group 0 to 6.6191e-04.\n",
      "Adjusting learning rate of group 0 to 6.4816e-04.\n",
      "Adjusting learning rate of group 0 to 6.3432e-04.\n",
      "Adjusting learning rate of group 0 to 6.2040e-04.\n",
      "Adjusting learning rate of group 0 to 6.0640e-04.\n",
      "Adjusting learning rate of group 0 to 5.9235e-04.\n",
      "Adjusting learning rate of group 0 to 5.7826e-04.\n",
      "Adjusting learning rate of group 0 to 5.6413e-04.\n",
      "Adjusting learning rate of group 0 to 5.5000e-04.\n",
      "Adjusting learning rate of group 0 to 5.3587e-04.\n",
      "Adjusting learning rate of group 0 to 5.2174e-04.\n",
      "Adjusting learning rate of group 0 to 5.0765e-04.\n",
      "Adjusting learning rate of group 0 to 4.9360e-04.\n",
      "Adjusting learning rate of group 0 to 4.7960e-04.\n",
      "Adjusting learning rate of group 0 to 4.6568e-04.\n",
      "Adjusting learning rate of group 0 to 4.5184e-04.\n",
      "Adjusting learning rate of group 0 to 4.3809e-04.\n",
      "Adjusting learning rate of group 0 to 4.2445e-04.\n",
      "Adjusting learning rate of group 0 to 4.1094e-04.\n",
      "Adjusting learning rate of group 0 to 3.9757e-04.\n",
      "Adjusting learning rate of group 0 to 3.8434e-04.\n",
      "Adjusting learning rate of group 0 to 3.7128e-04.\n",
      "Adjusting learning rate of group 0 to 3.5840e-04.\n",
      "Adjusting learning rate of group 0 to 3.4570e-04.\n",
      "Adjusting learning rate of group 0 to 3.3321e-04.\n",
      "Adjusting learning rate of group 0 to 3.2093e-04.\n",
      "Adjusting learning rate of group 0 to 3.0888e-04.\n",
      "Adjusting learning rate of group 0 to 2.9706e-04.\n",
      "Adjusting learning rate of group 0 to 2.8550e-04.\n",
      "Adjusting learning rate of group 0 to 2.7419e-04.\n",
      "Adjusting learning rate of group 0 to 2.6316e-04.\n",
      "Adjusting learning rate of group 0 to 2.5241e-04.\n",
      "Adjusting learning rate of group 0 to 2.4195e-04.\n",
      "Adjusting learning rate of group 0 to 2.3180e-04.\n",
      "Adjusting learning rate of group 0 to 2.2196e-04.\n",
      "Adjusting learning rate of group 0 to 2.1245e-04.\n",
      "Adjusting learning rate of group 0 to 2.0327e-04.\n",
      "Adjusting learning rate of group 0 to 1.9443e-04.\n",
      "Adjusting learning rate of group 0 to 1.8594e-04.\n",
      "Adjusting learning rate of group 0 to 1.7781e-04.\n",
      "Adjusting learning rate of group 0 to 1.7005e-04.\n",
      "Adjusting learning rate of group 0 to 1.6267e-04.\n",
      "Adjusting learning rate of group 0 to 1.5566e-04.\n",
      "Adjusting learning rate of group 0 to 1.4905e-04.\n",
      "Adjusting learning rate of group 0 to 1.4283e-04.\n",
      "Adjusting learning rate of group 0 to 1.3701e-04.\n",
      "Adjusting learning rate of group 0 to 1.3160e-04.\n",
      "Adjusting learning rate of group 0 to 1.2660e-04.\n",
      "Adjusting learning rate of group 0 to 1.2202e-04.\n",
      "Adjusting learning rate of group 0 to 1.1787e-04.\n",
      "Adjusting learning rate of group 0 to 1.1414e-04.\n",
      "Adjusting learning rate of group 0 to 1.1084e-04.\n",
      "Adjusting learning rate of group 0 to 1.0797e-04.\n",
      "Adjusting learning rate of group 0 to 1.0554e-04.\n",
      "Adjusting learning rate of group 0 to 1.0355e-04.\n",
      "Adjusting learning rate of group 0 to 1.0200e-04.\n",
      "Adjusting learning rate of group 0 to 1.0089e-04.\n",
      "Adjusting learning rate of group 0 to 1.0022e-04.\n",
      "Adjusting learning rate of group 0 to 1.0000e-04.\n",
      "Step 100/100 - train_loss: 4.123\r"
     ]
    }
   ],
   "source": [
    "loss_history = train(\n",
    "    model,\n",
    "    ds_train,\n",
    "    batch_size=train_config.batch_size,\n",
    "    lr=train_config.learning_rate,\n",
    "    max_steps=train_config.max_steps,\n",
    "    log_every=train_config.log_frequency,\n",
    ")"
   ]
  },
  {
   "cell_type": "code",
   "execution_count": 9,
   "metadata": {},
   "outputs": [
    {
     "data": {
      "text/plain": [
       "Text(0, 0.5, 'cross entropy loss')"
      ]
     },
     "execution_count": 9,
     "metadata": {},
     "output_type": "execute_result"
    },
    {
     "data": {
      "image/png": "[encoded data removed]",
      "text/plain": [
       "<Figure size 1200x400 with 1 Axes>"
      ]
     },
     "metadata": {},
     "output_type": "display_data"
    }
   ],
   "source": [
    "fig, ax = plt.subplots(figsize=(12, 4))\n",
    "ax.plot(range(len(loss_history[\"train_loss\"])), loss_history[\"train_loss\"])\n",
    "ax.set_xlabel(\"step\")\n",
    "ax.set_ylabel(\"cross entropy loss\")"
   ]
  },
  {
   "cell_type": "markdown",
   "metadata": {},
   "source": [
    "# Play around"
   ]
  },
  {
   "cell_type": "code",
   "execution_count": 10,
   "metadata": {},
   "outputs": [
    {
     "data": {
      "text/plain": [
       "\"lput, ass. Oe, too giveings of this, how their Dend agains, Haventity, Belier't, I war to ut from this coes what torull\""
      ]
     },
     "execution_count": 10,
     "metadata": {},
     "output_type": "execute_result"
    }
   ],
   "source": [
    "# empty prompt to generate random stuff\n",
    "prompt = torch.zeros((1, llm_config.context_size), dtype=torch.int32)\n",
    "out = model.generate(prompt, max_seq_len=50)\n",
    "tokenizer.decode(out)"
   ]
  },
  {
   "cell_type": "code",
   "execution_count": 11,
   "metadata": {},
   "outputs": [
    {
     "data": {
      "text/plain": [
       "\"I took an arrow to the knee, For by device agains the fleenters should roughtuncurk, even I can keepsar, sir forech? perer ship thatt them to the fear 'tis And think. Exeunt\""
      ]
     },
     "execution_count": 11,
     "metadata": {},
     "output_type": "execute_result"
    }
   ],
   "source": [
    "prompt = tokenizer.encode(\"I took an arrow to the knee, \", beg_of_string=True, pad_seq=True, seq_len=llm_config.context_size).view(1, -1)\n",
    "out = model.generate(prompt, max_seq_len=50)\n",
    "tokenizer.decode(out)"
   ]
  },
  {
   "cell_type": "code",
   "execution_count": null,
   "metadata": {},
   "outputs": [],
   "source": []
  },
  {
   "cell_type": "code",
   "execution_count": null,
   "metadata": {},
   "outputs": [],
   "source": []
  }
 ],
 "metadata": {
  "kernelspec": {
   "display_name": "scratch-llm",
   "language": "python",
   "name": "python3"
  },
  "language_info": {
   "codemirror_mode": {
    "name": "ipython",
    "version": 3
   },
   "file_extension": ".py",
   "mimetype": "text/x-python",
   "name": "python",
   "nbconvert_exporter": "python",
   "pygments_lexer": "ipython3",
   "version": "3.11.5"
  },
  "orig_nbformat": 4
 },
 "nbformat": 4,
 "nbformat_minor": 2
}
