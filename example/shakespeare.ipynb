{
 "cells": [
  {
   "cell_type": "markdown",
   "metadata": {},
   "source": [
    "# Imports\n"
   ]
  },
  {
   "cell_type": "code",
   "execution_count": 1,
   "metadata": {},
   "outputs": [],
   "source": [
    "%load_ext autoreload\n",
    "%autoreload 2"
   ]
  },
  {
   "cell_type": "code",
   "execution_count": 2,
   "metadata": {},
   "outputs": [],
   "source": [
    "import sys\n",
    "\n",
    "sys.path.append(\"..\")\n",
    "\n",
    "import os\n",
    "import matplotlib.pyplot as plt\n",
    "import torch\n",
    "\n",
    "from model.llm import LLM\n",
    "from model.tokenizer import Tokenizer, train_tokenizer\n",
    "\n",
    "from helpers.dataset import NextTokenPredictionDataset\n",
    "from helpers.trainer import train\n",
    "from helpers.config import LLMConfig, TrainingConfig"
   ]
  },
  {
   "cell_type": "markdown",
   "metadata": {},
   "source": [
    "# Set config"
   ]
  },
  {
   "cell_type": "code",
   "execution_count": 41,
   "metadata": {},
   "outputs": [],
   "source": [
    "llm_config = LLMConfig(\n",
    "    vocab_size=512,\n",
    "    context_size=128,\n",
    "    dim_emb=512,\n",
    "    num_layers=8,\n",
    "    num_heads=8\n",
    ")\n",
    "\n",
    "train_config = TrainingConfig(\n",
    "    retrain_tokenizer=False,\n",
    "    batch_size=64,\n",
    "    learning_rate=1e-4,\n",
    "    weight_decay=1e-2,\n",
    "    max_steps=200,\n",
    "    log_frequency=1\n",
    ")"
   ]
  },
  {
   "cell_type": "markdown",
   "metadata": {},
   "source": [
    "# Prepare tokenizer and dataset\n"
   ]
  },
  {
   "cell_type": "code",
   "execution_count": 31,
   "metadata": {},
   "outputs": [],
   "source": [
    "input_file = \"../data/shakespeare/alllines.txt\"\n",
    "output_path = \"../data/shakespeare\"\n",
    "\n",
    "tokenizer_model_file = os.path.join(os.path.dirname(input_file), \"tokenizer.model\")\n",
    "if not os.path.exists(tokenizer_model_file) or train_config.retrain_tokenizer:\n",
    "    train_tokenizer(input_file, llm_config.vocab_size, tokenizer_model_file)\n",
    "\n",
    "tokenizer = Tokenizer(tokenizer_model_file)"
   ]
  },
  {
   "cell_type": "code",
   "execution_count": 32,
   "metadata": {},
   "outputs": [
    {
     "name": "stdout",
     "output_type": "stream",
     "text": [
      "['▁The', '▁r', 'o', 'le', '▁of', '▁the', '▁to', 'ke', 'n', 'i', 'z', 'er', '▁is', '▁to', '▁b', 'u', 'il', 'd', '▁a', '▁ma', 'pp', 'ing', '▁be', 't', 'w', 'e', 'en', '▁', 's', 'u', 'b', 'w', 'or', 'd', 's', '▁and', '▁to', 'ke', 'n', '▁in', 'd', 'ice', 's']\n"
     ]
    }
   ],
   "source": [
    "sentence = \"The role of the tokenizer is to build a mapping between subwords and token indices\"\n",
    "print(tokenizer.sp.EncodeAsPieces(sentence))\n",
    "\n",
    "assert tokenizer.decode(tokenizer.encode(sentence)) == sentence"
   ]
  },
  {
   "cell_type": "code",
   "execution_count": 36,
   "metadata": {},
   "outputs": [
    {
     "data": {
      "text/plain": [
       "(tensor([[  9, 153,   5,  ..., 103, 127,  96]], dtype=torch.int32),\n",
       " tensor([[153,   5,   4,  ..., 127,  96, 272]]))"
      ]
     },
     "execution_count": 36,
     "metadata": {},
     "output_type": "execute_result"
    }
   ],
   "source": [
    "# This helper class allow to generate batches of inputs and targets where targets last element is the next token to predict\n",
    "ds_train = NextTokenPredictionDataset(input_file, llm_config.context_size, tokenizer)\n",
    "\n",
    "ds_train.get_batch(batch_size=1)"
   ]
  },
  {
   "cell_type": "markdown",
   "metadata": {},
   "source": [
    "# Define model\n"
   ]
  },
  {
   "cell_type": "code",
   "execution_count": 50,
   "metadata": {},
   "outputs": [
    {
     "name": "stdout",
     "output_type": "stream",
     "text": [
      "total params: 8,921,600\n",
      "learnable params: 8,921,600\n",
      "model size: 46.033MB\n",
      "LLM(\n",
      "  (token_embedding): Embedding(512, 512)\n",
      "  (emb_dropout): Dropout(p=0.0, inplace=False)\n",
      "  (transformer): Sequential(\n",
      "    (0): TransformerBlock(\n",
      "      (pos_encoding): CosinePositionalEncoding()\n",
      "      (norm_1): RMSNorm()\n",
      "      (multihead_attn): MultiHeadAttention(\n",
      "        (projection_query): Linear(in_features=512, out_features=512, bias=False)\n",
      "        (projection_key): Linear(in_features=512, out_features=512, bias=False)\n",
      "        (projection_value): Linear(in_features=512, out_features=512, bias=False)\n",
      "        (projection_out): Linear(in_features=512, out_features=512, bias=False)\n",
      "      )\n",
      "      (norm_2): RMSNorm()\n",
      "      (feed_forward): FeedForward(\n",
      "        (_layers): Sequential(\n",
      "          (0): Linear(in_features=512, out_features=512, bias=False)\n",
      "          (1): SwiGLU(\n",
      "            (linear): Linear(in_features=512, out_features=1024, bias=True)\n",
      "          )\n",
      "          (2): Linear(in_features=512, out_features=512, bias=False)\n",
      "        )\n",
      "      )\n",
      "    )\n",
      "    (1): TransformerBlock(\n",
      "      (pos_encoding): CosinePositionalEncoding()\n",
      "      (norm_1): RMSNorm()\n",
      "      (multihead_attn): MultiHeadAttention(\n",
      "        (projection_query): Linear(in_features=512, out_features=512, bias=False)\n",
      "        (projection_key): Linear(in_features=512, out_features=512, bias=False)\n",
      "        (projection_value): Linear(in_features=512, out_features=512, bias=False)\n",
      "        (projection_out): Linear(in_features=512, out_features=512, bias=False)\n",
      "      )\n",
      "      (norm_2): RMSNorm()\n",
      "      (feed_forward): FeedForward(\n",
      "        (_layers): Sequential(\n",
      "          (0): Linear(in_features=512, out_features=512, bias=False)\n",
      "          (1): SwiGLU(\n",
      "            (linear): Linear(in_features=512, out_features=1024, bias=True)\n",
      "          )\n",
      "          (2): Linear(in_features=512, out_features=512, bias=False)\n",
      "        )\n",
      "      )\n",
      "    )\n",
      "    (2): TransformerBlock(\n",
      "      (pos_encoding): CosinePositionalEncoding()\n",
      "      (norm_1): RMSNorm()\n",
      "      (multihead_attn): MultiHeadAttention(\n",
      "        (projection_query): Linear(in_features=512, out_features=512, bias=False)\n",
      "        (projection_key): Linear(in_features=512, out_features=512, bias=False)\n",
      "        (projection_value): Linear(in_features=512, out_features=512, bias=False)\n",
      "        (projection_out): Linear(in_features=512, out_features=512, bias=False)\n",
      "      )\n",
      "      (norm_2): RMSNorm()\n",
      "      (feed_forward): FeedForward(\n",
      "        (_layers): Sequential(\n",
      "          (0): Linear(in_features=512, out_features=512, bias=False)\n",
      "          (1): SwiGLU(\n",
      "            (linear): Linear(in_features=512, out_features=1024, bias=True)\n",
      "          )\n",
      "          (2): Linear(in_features=512, out_features=512, bias=False)\n",
      "        )\n",
      "      )\n",
      "    )\n",
      "    (3): TransformerBlock(\n",
      "      (pos_encoding): CosinePositionalEncoding()\n",
      "      (norm_1): RMSNorm()\n",
      "      (multihead_attn): MultiHeadAttention(\n",
      "        (projection_query): Linear(in_features=512, out_features=512, bias=False)\n",
      "        (projection_key): Linear(in_features=512, out_features=512, bias=False)\n",
      "        (projection_value): Linear(in_features=512, out_features=512, bias=False)\n",
      "        (projection_out): Linear(in_features=512, out_features=512, bias=False)\n",
      "      )\n",
      "      (norm_2): RMSNorm()\n",
      "      (feed_forward): FeedForward(\n",
      "        (_layers): Sequential(\n",
      "          (0): Linear(in_features=512, out_features=512, bias=False)\n",
      "          (1): SwiGLU(\n",
      "            (linear): Linear(in_features=512, out_features=1024, bias=True)\n",
      "          )\n",
      "          (2): Linear(in_features=512, out_features=512, bias=False)\n",
      "        )\n",
      "      )\n",
      "    )\n",
      "  )\n",
      "  (projection_head): Linear(in_features=512, out_features=512, bias=True)\n",
      ")\n"
     ]
    }
   ],
   "source": [
    "model = LLM(\n",
    "    vocab_size=llm_config.vocab_size,\n",
    "    context_size=llm_config.context_size,\n",
    "    dim_emb=llm_config.dim_emb,\n",
    "    num_layers=llm_config.num_layers,\n",
    "    attn_num_heads=llm_config.num_heads,\n",
    ")\n",
    "\n",
    "param_size = 0\n",
    "for param in model.parameters():\n",
    "    param_size += param.nelement() * param.element_size()\n",
    "buffer_size = 0\n",
    "for buffer in model.buffers():\n",
    "    buffer_size += buffer.nelement() * buffer.element_size()\n",
    "\n",
    "size_all_mb = (param_size + buffer_size) / 1024**2\n",
    "\n",
    "print(f\"total params: {sum(p.numel() for p in model.parameters()):,d}\")\n",
    "print(f\"learnable params: {sum(p.numel() for p in model.parameters() if p.requires_grad):,d}\")\n",
    "print(f\"model size: {size_all_mb:.3f}MB\")\n",
    "\n",
    "print(model)"
   ]
  },
  {
   "cell_type": "markdown",
   "metadata": {},
   "source": [
    "# Train model\n"
   ]
  },
  {
   "cell_type": "code",
   "execution_count": 43,
   "metadata": {},
   "outputs": [
    {
     "name": "stdout",
     "output_type": "stream",
     "text": [
      "Step 200/200 - LR:0.000 - train_loss: 4.214\r"
     ]
    }
   ],
   "source": [
    "loss_history = train(\n",
    "    model,\n",
    "    ds_train,\n",
    "    batch_size=train_config.batch_size,\n",
    "    lr=train_config.learning_rate,\n",
    "    max_steps=train_config.max_steps,\n",
    "    weight_decay=train_config.weight_decay,\n",
    "    log_every=train_config.log_frequency,\n",
    ")"
   ]
  },
  {
   "cell_type": "code",
   "execution_count": 44,
   "metadata": {},
   "outputs": [
    {
     "data": {
      "text/plain": [
       "Text(0, 0.5, 'cross entropy loss')"
      ]
     },
     "execution_count": 44,
     "metadata": {},
     "output_type": "execute_result"
    },
    {
     "data": {
      "image/png": "[encoded data removed]",
      "text/plain": [
       "<Figure size 1200x400 with 1 Axes>"
      ]
     },
     "metadata": {},
     "output_type": "display_data"
    }
   ],
   "source": [
    "fig, ax = plt.subplots(figsize=(12, 4))\n",
    "ax.plot(range(len(loss_history[\"train_loss\"])), loss_history[\"train_loss\"])\n",
    "ax.set_xlabel(\"step\")\n",
    "ax.set_ylabel(\"cross entropy loss\")"
   ]
  },
  {
   "cell_type": "markdown",
   "metadata": {},
   "source": [
    "# Play around"
   ]
  },
  {
   "cell_type": "code",
   "execution_count": 45,
   "metadata": {},
   "outputs": [
    {
     "data": {
      "text/plain": [
       "\"ose baned fair kind' Pamb scivingarvne on his s Ha pered fellowzen, brother of this getedise Lan hy, ga, and\""
      ]
     },
     "execution_count": 45,
     "metadata": {},
     "output_type": "execute_result"
    }
   ],
   "source": [
    "# empty prompt to generate random stuff\n",
    "prompt = torch.zeros((1, llm_config.context_size), dtype=torch.int32)\n",
    "out = model.generate(prompt, max_seq_len=50)\n",
    "tokenizer.decode(out)"
   ]
  },
  {
   "cell_type": "code",
   "execution_count": 46,
   "metadata": {},
   "outputs": [
    {
     "data": {
      "text/plain": [
       "\"I took an arrow to the knee, s st me voment and or the e canformed withy. O, Awainsk! wat, full, CAF showed.st, I! I'll s so\""
      ]
     },
     "execution_count": 46,
     "metadata": {},
     "output_type": "execute_result"
    }
   ],
   "source": [
    "prompt = tokenizer.encode(\"I took an arrow to the knee, \", beg_of_string=True, pad_seq=True, seq_len=llm_config.context_size).view(1, -1)\n",
    "out = model.generate(prompt, max_seq_len=50)\n",
    "tokenizer.decode(out)"
   ]
  },
  {
   "cell_type": "code",
   "execution_count": null,
   "metadata": {},
   "outputs": [],
   "source": []
  },
  {
   "cell_type": "code",
   "execution_count": null,
   "metadata": {},
   "outputs": [],
   "source": []
  }
 ],
 "metadata": {
  "kernelspec": {
   "display_name": "scratch-llm",
   "language": "python",
   "name": "python3"
  },
  "language_info": {
   "codemirror_mode": {
    "name": "ipython",
    "version": 3
   },
   "file_extension": ".py",
   "mimetype": "text/x-python",
   "name": "python",
   "nbconvert_exporter": "python",
   "pygments_lexer": "ipython3",
   "version": "3.11.5"
  },
  "orig_nbformat": 4
 },
 "nbformat": 4,
 "nbformat_minor": 2
}
