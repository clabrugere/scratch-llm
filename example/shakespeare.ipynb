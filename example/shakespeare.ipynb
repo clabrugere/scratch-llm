{
 "cells": [
  {
   "cell_type": "markdown",
   "metadata": {},
   "source": [
    "# Imports\n"
   ]
  },
  {
   "cell_type": "code",
   "execution_count": 12,
   "metadata": {},
   "outputs": [
    {
     "name": "stdout",
     "output_type": "stream",
     "text": [
      "The autoreload extension is already loaded. To reload it, use:\n",
      "  %reload_ext autoreload\n"
     ]
    }
   ],
   "source": [
    "%load_ext autoreload\n",
    "%autoreload 2"
   ]
  },
  {
   "cell_type": "code",
   "execution_count": 13,
   "metadata": {},
   "outputs": [],
   "source": [
    "import sys\n",
    "\n",
    "sys.path.append(\"..\")\n",
    "\n",
    "import os\n",
    "import matplotlib.pyplot as plt\n",
    "import torch\n",
    "\n",
    "from model.llm import LLM\n",
    "from model.tokenizer import Tokenizer, train_tokenizer\n",
    "\n",
    "from helpers.dataset import NextTokenPredictionDataset\n",
    "from helpers.trainer import train\n",
    "from helpers.config import LLMConfig, TrainingConfig"
   ]
  },
  {
   "cell_type": "markdown",
   "metadata": {},
   "source": [
    "# Set config"
   ]
  },
  {
   "cell_type": "code",
   "execution_count": 20,
   "metadata": {},
   "outputs": [],
   "source": [
    "llm_config = LLMConfig(\n",
    "    vocab_size=512,\n",
    "    context_size=256,\n",
    "    dim_emb=512,\n",
    "    num_layers=8,\n",
    "    num_heads=8,\n",
    "    emb_dropout=0.0,\n",
    "    ffd_bias=True,\n",
    "    ffd_dropout=0.0,\n",
    ")\n",
    "\n",
    "train_config = TrainingConfig(\n",
    "    retrain_tokenizer=False, batch_size=64, learning_rate=1e-4, weight_decay=1e-2, max_steps=200, log_frequency=1\n",
    ")"
   ]
  },
  {
   "cell_type": "markdown",
   "metadata": {},
   "source": [
    "# Prepare tokenizer and dataset\n"
   ]
  },
  {
   "cell_type": "code",
   "execution_count": 16,
   "metadata": {},
   "outputs": [],
   "source": [
    "input_file = \"../data/shakespeare/alllines.txt\"\n",
    "output_path = \"../data/shakespeare\"\n",
    "\n",
    "tokenizer_model_file = os.path.join(os.path.dirname(input_file), \"tokenizer.model\")\n",
    "if not os.path.exists(tokenizer_model_file) or train_config.retrain_tokenizer:\n",
    "    train_tokenizer(input_file, llm_config.vocab_size, tokenizer_model_file)\n",
    "\n",
    "tokenizer = Tokenizer(tokenizer_model_file)"
   ]
  },
  {
   "cell_type": "code",
   "execution_count": 17,
   "metadata": {},
   "outputs": [
    {
     "name": "stdout",
     "output_type": "stream",
     "text": [
      "['▁The', '▁r', 'o', 'le', '▁of', '▁the', '▁to', 'ke', 'n', 'i', 'z', 'er', '▁is', '▁to', '▁b', 'u', 'il', 'd', '▁a', '▁ma', 'pp', 'ing', '▁be', 't', 'w', 'e', 'en', '▁a', '▁', 's', 'ent', 'ence', 's', '▁re', 'p', 're', 's', 'ent', 'ed', '▁as', '▁a', '▁str', 'ing', '▁and', '▁to', 'ke', 'n', '▁in', 'd', 'ice', 's']\n"
     ]
    }
   ],
   "source": [
    "sentence = \"The role of the tokenizer is to build a mapping between a sentences represented as a string and token indices\"\n",
    "print(tokenizer.sp.EncodeAsPieces(sentence))\n",
    "\n",
    "assert tokenizer.decode(tokenizer.encode(sentence)) == sentence"
   ]
  },
  {
   "cell_type": "code",
   "execution_count": 18,
   "metadata": {},
   "outputs": [
    {
     "data": {
      "text/plain": [
       "(tensor([[159, 398, 220,  26,  26,  24, 383,  20,   6,   7,  31,  37,  44, 372,\n",
       "          179,  14,  30,  15, 159,  33, 214,  89,  26,  24, 383,  20,   6,   7,\n",
       "           31,  37,  44, 373,  67,  51,  35, 398, 220,  26,  26,   4,  84,  20,\n",
       "            6,  37,  53,   7, 204,  89,  25,  73,  72,  42,  53, 344,   5,   4,\n",
       "          113,  13,  18,  63,   9, 306,  20, 113, 160,   5, 341,  76, 177, 235,\n",
       "           47,   5,   5,  41, 173,  18,  27,  76,  48, 110,   6,   7, 126,  17,\n",
       "           30,  68,  14,  17,   5,  68,  14,   4,  12,  14, 330,   9, 122, 196,\n",
       "           33, 437, 103,  33, 161,  27, 227,  18,   6,   5,  53,   5, 136,   6,\n",
       "          104,   5,  77,  41,  33,  76, 268,  56, 490,   4,  73, 285,  64,  24,\n",
       "           11, 208,  36,  48, 208, 123, 120,  83,   4, 259,  38, 103,  11, 150,\n",
       "           34,  64,  10, 125,  62,  26, 344, 374,  42,  13,  61,  10, 186, 110,\n",
       "            6,   5,  53,  86,  34,  64,  94,  21, 104,  95,   6,  36, 109,  49,\n",
       "            8, 259,  10,  32, 132,   4,  78, 408,   8,  12,  78, 103,  76,  22,\n",
       "          230,   4, 142,  59,  48,  51, 120,  80,  85,  32,  16,  60,  23,  41,\n",
       "           54,  99,   6,   5,  53,   4, 169, 139,  13,  10, 252, 389,  99,   6,\n",
       "            5,  53,  20,  99,  11,  85,  32,  16,  60,  23,   7,  90,  14,  76,\n",
       "          116,  42,  13,  61,  10,  48,   5,  23,   7,   4,  85,  32,  16,  60,\n",
       "           23,   7,  54,  99,  57,  55,  99,  85,  32,  16,  60,  23,   7,   4,\n",
       "           99,   6,   5,  53]], dtype=torch.int32),\n",
       " tensor([[398, 220,  26,  26,  24, 383,  20,   6,   7,  31,  37,  44, 372, 179,\n",
       "           14,  30,  15, 159,  33, 214,  89,  26,  24, 383,  20,   6,   7,  31,\n",
       "           37,  44, 373,  67,  51,  35, 398, 220,  26,  26,   4,  84,  20,   6,\n",
       "           37,  53,   7, 204,  89,  25,  73,  72,  42,  53, 344,   5,   4, 113,\n",
       "           13,  18,  63,   9, 306,  20, 113, 160,   5, 341,  76, 177, 235,  47,\n",
       "            5,   5,  41, 173,  18,  27,  76,  48, 110,   6,   7, 126,  17,  30,\n",
       "           68,  14,  17,   5,  68,  14,   4,  12,  14, 330,   9, 122, 196,  33,\n",
       "          437, 103,  33, 161,  27, 227,  18,   6,   5,  53,   5, 136,   6, 104,\n",
       "            5,  77,  41,  33,  76, 268,  56, 490,   4,  73, 285,  64,  24,  11,\n",
       "          208,  36,  48, 208, 123, 120,  83,   4, 259,  38, 103,  11, 150,  34,\n",
       "           64,  10, 125,  62,  26, 344, 374,  42,  13,  61,  10, 186, 110,   6,\n",
       "            5,  53,  86,  34,  64,  94,  21, 104,  95,   6,  36, 109,  49,   8,\n",
       "          259,  10,  32, 132,   4,  78, 408,   8,  12,  78, 103,  76,  22, 230,\n",
       "            4, 142,  59,  48,  51, 120,  80,  85,  32,  16,  60,  23,  41,  54,\n",
       "           99,   6,   5,  53,   4, 169, 139,  13,  10, 252, 389,  99,   6,   5,\n",
       "           53,  20,  99,  11,  85,  32,  16,  60,  23,   7,  90,  14,  76, 116,\n",
       "           42,  13,  61,  10,  48,   5,  23,   7,   4,  85,  32,  16,  60,  23,\n",
       "            7,  54,  99,  57,  55,  99,  85,  32,  16,  60,  23,   7,   4,  99,\n",
       "            6,   5,  53,  69]]))"
      ]
     },
     "execution_count": 18,
     "metadata": {},
     "output_type": "execute_result"
    }
   ],
   "source": [
    "# This helper class allow to generate batches of inputs and targets where targets last element is the next token to predict\n",
    "ds_train = NextTokenPredictionDataset(input_file, llm_config.context_size, tokenizer)\n",
    "\n",
    "ds_train.get_batch(batch_size=1)"
   ]
  },
  {
   "cell_type": "markdown",
   "metadata": {},
   "source": [
    "# Define model\n"
   ]
  },
  {
   "cell_type": "code",
   "execution_count": 22,
   "metadata": {},
   "outputs": [
    {
     "name": "stdout",
     "output_type": "stream",
     "text": [
      "total params: 17,327,104\n",
      "learnable params: 17,327,104\n",
      "model size: 67.098MB\n",
      "LLM(\n",
      "  (token_embedding): Embedding(512, 512)\n",
      "  (emb_dropout): Dropout(p=0.0, inplace=False)\n",
      "  (transformer): Sequential(\n",
      "    (0): TransformerBlock(\n",
      "      (norm_1): RMSNorm()\n",
      "      (multihead_attn): MultiHeadAttention(\n",
      "        (positional_encoding): CosinePositionalEncoding()\n",
      "        (proj_q): Linear(in_features=512, out_features=512, bias=False)\n",
      "        (proj_k): Linear(in_features=512, out_features=512, bias=False)\n",
      "        (proj_v): Linear(in_features=512, out_features=512, bias=False)\n",
      "        (proj_out): Linear(in_features=512, out_features=512, bias=False)\n",
      "      )\n",
      "      (norm_2): RMSNorm()\n",
      "      (feed_forward): FeedForward(\n",
      "        (_layers): Sequential(\n",
      "          (0): Linear(in_features=512, out_features=512, bias=True)\n",
      "          (1): SwiGLU(\n",
      "            (linear): Linear(in_features=512, out_features=1024, bias=True)\n",
      "          )\n",
      "          (2): Linear(in_features=512, out_features=512, bias=True)\n",
      "        )\n",
      "      )\n",
      "    )\n",
      "    (1): TransformerBlock(\n",
      "      (norm_1): RMSNorm()\n",
      "      (multihead_attn): MultiHeadAttention(\n",
      "        (positional_encoding): CosinePositionalEncoding()\n",
      "        (proj_q): Linear(in_features=512, out_features=512, bias=False)\n",
      "        (proj_k): Linear(in_features=512, out_features=512, bias=False)\n",
      "        (proj_v): Linear(in_features=512, out_features=512, bias=False)\n",
      "        (proj_out): Linear(in_features=512, out_features=512, bias=False)\n",
      "      )\n",
      "      (norm_2): RMSNorm()\n",
      "      (feed_forward): FeedForward(\n",
      "        (_layers): Sequential(\n",
      "          (0): Linear(in_features=512, out_features=512, bias=True)\n",
      "          (1): SwiGLU(\n",
      "            (linear): Linear(in_features=512, out_features=1024, bias=True)\n",
      "          )\n",
      "          (2): Linear(in_features=512, out_features=512, bias=True)\n",
      "        )\n",
      "      )\n",
      "    )\n",
      "    (2): TransformerBlock(\n",
      "      (norm_1): RMSNorm()\n",
      "      (multihead_attn): MultiHeadAttention(\n",
      "        (positional_encoding): CosinePositionalEncoding()\n",
      "        (proj_q): Linear(in_features=512, out_features=512, bias=False)\n",
      "        (proj_k): Linear(in_features=512, out_features=512, bias=False)\n",
      "        (proj_v): Linear(in_features=512, out_features=512, bias=False)\n",
      "        (proj_out): Linear(in_features=512, out_features=512, bias=False)\n",
      "      )\n",
      "      (norm_2): RMSNorm()\n",
      "      (feed_forward): FeedForward(\n",
      "        (_layers): Sequential(\n",
      "          (0): Linear(in_features=512, out_features=512, bias=True)\n",
      "          (1): SwiGLU(\n",
      "            (linear): Linear(in_features=512, out_features=1024, bias=True)\n",
      "          )\n",
      "          (2): Linear(in_features=512, out_features=512, bias=True)\n",
      "        )\n",
      "      )\n",
      "    )\n",
      "    (3): TransformerBlock(\n",
      "      (norm_1): RMSNorm()\n",
      "      (multihead_attn): MultiHeadAttention(\n",
      "        (positional_encoding): CosinePositionalEncoding()\n",
      "        (proj_q): Linear(in_features=512, out_features=512, bias=False)\n",
      "        (proj_k): Linear(in_features=512, out_features=512, bias=False)\n",
      "        (proj_v): Linear(in_features=512, out_features=512, bias=False)\n",
      "        (proj_out): Linear(in_features=512, out_features=512, bias=False)\n",
      "      )\n",
      "      (norm_2): RMSNorm()\n",
      "      (feed_forward): FeedForward(\n",
      "        (_layers): Sequential(\n",
      "          (0): Linear(in_features=512, out_features=512, bias=True)\n",
      "          (1): SwiGLU(\n",
      "            (linear): Linear(in_features=512, out_features=1024, bias=True)\n",
      "          )\n",
      "          (2): Linear(in_features=512, out_features=512, bias=True)\n",
      "        )\n",
      "      )\n",
      "    )\n",
      "    (4): TransformerBlock(\n",
      "      (norm_1): RMSNorm()\n",
      "      (multihead_attn): MultiHeadAttention(\n",
      "        (positional_encoding): CosinePositionalEncoding()\n",
      "        (proj_q): Linear(in_features=512, out_features=512, bias=False)\n",
      "        (proj_k): Linear(in_features=512, out_features=512, bias=False)\n",
      "        (proj_v): Linear(in_features=512, out_features=512, bias=False)\n",
      "        (proj_out): Linear(in_features=512, out_features=512, bias=False)\n",
      "      )\n",
      "      (norm_2): RMSNorm()\n",
      "      (feed_forward): FeedForward(\n",
      "        (_layers): Sequential(\n",
      "          (0): Linear(in_features=512, out_features=512, bias=True)\n",
      "          (1): SwiGLU(\n",
      "            (linear): Linear(in_features=512, out_features=1024, bias=True)\n",
      "          )\n",
      "          (2): Linear(in_features=512, out_features=512, bias=True)\n",
      "        )\n",
      "      )\n",
      "    )\n",
      "    (5): TransformerBlock(\n",
      "      (norm_1): RMSNorm()\n",
      "      (multihead_attn): MultiHeadAttention(\n",
      "        (positional_encoding): CosinePositionalEncoding()\n",
      "        (proj_q): Linear(in_features=512, out_features=512, bias=False)\n",
      "        (proj_k): Linear(in_features=512, out_features=512, bias=False)\n",
      "        (proj_v): Linear(in_features=512, out_features=512, bias=False)\n",
      "        (proj_out): Linear(in_features=512, out_features=512, bias=False)\n",
      "      )\n",
      "      (norm_2): RMSNorm()\n",
      "      (feed_forward): FeedForward(\n",
      "        (_layers): Sequential(\n",
      "          (0): Linear(in_features=512, out_features=512, bias=True)\n",
      "          (1): SwiGLU(\n",
      "            (linear): Linear(in_features=512, out_features=1024, bias=True)\n",
      "          )\n",
      "          (2): Linear(in_features=512, out_features=512, bias=True)\n",
      "        )\n",
      "      )\n",
      "    )\n",
      "    (6): TransformerBlock(\n",
      "      (norm_1): RMSNorm()\n",
      "      (multihead_attn): MultiHeadAttention(\n",
      "        (positional_encoding): CosinePositionalEncoding()\n",
      "        (proj_q): Linear(in_features=512, out_features=512, bias=False)\n",
      "        (proj_k): Linear(in_features=512, out_features=512, bias=False)\n",
      "        (proj_v): Linear(in_features=512, out_features=512, bias=False)\n",
      "        (proj_out): Linear(in_features=512, out_features=512, bias=False)\n",
      "      )\n",
      "      (norm_2): RMSNorm()\n",
      "      (feed_forward): FeedForward(\n",
      "        (_layers): Sequential(\n",
      "          (0): Linear(in_features=512, out_features=512, bias=True)\n",
      "          (1): SwiGLU(\n",
      "            (linear): Linear(in_features=512, out_features=1024, bias=True)\n",
      "          )\n",
      "          (2): Linear(in_features=512, out_features=512, bias=True)\n",
      "        )\n",
      "      )\n",
      "    )\n",
      "    (7): TransformerBlock(\n",
      "      (norm_1): RMSNorm()\n",
      "      (multihead_attn): MultiHeadAttention(\n",
      "        (positional_encoding): CosinePositionalEncoding()\n",
      "        (proj_q): Linear(in_features=512, out_features=512, bias=False)\n",
      "        (proj_k): Linear(in_features=512, out_features=512, bias=False)\n",
      "        (proj_v): Linear(in_features=512, out_features=512, bias=False)\n",
      "        (proj_out): Linear(in_features=512, out_features=512, bias=False)\n",
      "      )\n",
      "      (norm_2): RMSNorm()\n",
      "      (feed_forward): FeedForward(\n",
      "        (_layers): Sequential(\n",
      "          (0): Linear(in_features=512, out_features=512, bias=True)\n",
      "          (1): SwiGLU(\n",
      "            (linear): Linear(in_features=512, out_features=1024, bias=True)\n",
      "          )\n",
      "          (2): Linear(in_features=512, out_features=512, bias=True)\n",
      "        )\n",
      "      )\n",
      "    )\n",
      "  )\n",
      "  (norm): RMSNorm()\n",
      "  (projection_head): Linear(in_features=512, out_features=512, bias=True)\n",
      ")\n"
     ]
    }
   ],
   "source": [
    "model = LLM(\n",
    "    vocab_size=llm_config.vocab_size,\n",
    "    context_size=llm_config.context_size,\n",
    "    dim_emb=llm_config.dim_emb,\n",
    "    num_layers=llm_config.num_layers,\n",
    "    attn_num_heads=llm_config.num_heads,\n",
    "    emb_dropout=llm_config.emb_dropout,\n",
    "    ffd_bias=llm_config.ffd_bias,\n",
    "    ffd_dropout=llm_config.ffd_dropout\n",
    ")\n",
    "\n",
    "param_size = 0\n",
    "for param in model.parameters():\n",
    "    param_size += param.nelement() * param.element_size()\n",
    "buffer_size = 0\n",
    "for buffer in model.buffers():\n",
    "    buffer_size += buffer.nelement() * buffer.element_size()\n",
    "\n",
    "size_all_mb = (param_size + buffer_size) / 1024**2\n",
    "\n",
    "print(f\"total params: {sum(p.numel() for p in model.parameters()):,d}\")\n",
    "print(f\"learnable params: {sum(p.numel() for p in model.parameters() if p.requires_grad):,d}\")\n",
    "print(f\"model size: {size_all_mb:.3f}MB\")\n",
    "\n",
    "print(model)"
   ]
  },
  {
   "cell_type": "markdown",
   "metadata": {},
   "source": [
    "# Train model\n"
   ]
  },
  {
   "cell_type": "code",
   "execution_count": 23,
   "metadata": {},
   "outputs": [
    {
     "name": "stdout",
     "output_type": "stream",
     "text": [
      "Step 200/200 - LR:0.0001 - train_loss: 4.320\r"
     ]
    }
   ],
   "source": [
    "loss_history = train(\n",
    "    model,\n",
    "    ds_train,\n",
    "    batch_size=train_config.batch_size,\n",
    "    lr=train_config.learning_rate,\n",
    "    max_steps=train_config.max_steps,\n",
    "    weight_decay=train_config.weight_decay,\n",
    "    log_every=train_config.log_frequency,\n",
    ")"
   ]
  },
  {
   "cell_type": "code",
   "execution_count": 24,
   "metadata": {},
   "outputs": [
    {
     "data": {
      "text/plain": [
       "Text(0, 0.5, 'cross entropy loss')"
      ]
     },
     "execution_count": 24,
     "metadata": {},
     "output_type": "execute_result"
    },
    {
     "data": {
      "image/png": "[encoded data removed]",
      "text/plain": [
       "<Figure size 1200x400 with 1 Axes>"
      ]
     },
     "metadata": {},
     "output_type": "display_data"
    }
   ],
   "source": [
    "fig, ax = plt.subplots(figsize=(12, 4))\n",
    "ax.plot(range(len(loss_history[\"train_loss\"])), loss_history[\"train_loss\"])\n",
    "ax.set_xlabel(\"step\")\n",
    "ax.set_ylabel(\"cross entropy loss\")"
   ]
  },
  {
   "cell_type": "markdown",
   "metadata": {},
   "source": [
    "# Play around"
   ]
  },
  {
   "cell_type": "code",
   "execution_count": 25,
   "metadata": {},
   "outputs": [
    {
     "data": {
      "text/plain": [
       "'ardet rid: but, and, And me this your be? or bred comes turn him we not show I compag have here, and are jus ch! HVogi made. some many.'"
      ]
     },
     "execution_count": 25,
     "metadata": {},
     "output_type": "execute_result"
    }
   ],
   "source": [
    "# empty prompt to generate random stuff\n",
    "prompt = torch.zeros((1, llm_config.context_size), dtype=torch.int32)\n",
    "out = model.generate(prompt, max_seq_len=50)\n",
    "tokenizer.decode(out)"
   ]
  },
  {
   "cell_type": "code",
   "execution_count": 26,
   "metadata": {},
   "outputs": [
    {
     "data": {
      "text/plain": [
       "'I took an arrow to the knee, and, but thyng light is well. Why, I will titlesself do dishil, his bod greatself aight fal elseound ar to the world, with all to be no mores'"
      ]
     },
     "execution_count": 26,
     "metadata": {},
     "output_type": "execute_result"
    }
   ],
   "source": [
    "prompt = tokenizer.encode(\"I took an arrow to the knee, \", beg_of_string=True, pad_seq=True, seq_len=llm_config.context_size).view(1, -1)\n",
    "out = model.generate(prompt, max_seq_len=50)\n",
    "tokenizer.decode(out)"
   ]
  },
  {
   "cell_type": "code",
   "execution_count": null,
   "metadata": {},
   "outputs": [],
   "source": []
  }
 ],
 "metadata": {
  "kernelspec": {
   "display_name": "scratch-llm",
   "language": "python",
   "name": "python3"
  },
  "language_info": {
   "codemirror_mode": {
    "name": "ipython",
    "version": 3
   },
   "file_extension": ".py",
   "mimetype": "text/x-python",
   "name": "python",
   "nbconvert_exporter": "python",
   "pygments_lexer": "ipython3",
   "version": "3.11.5"
  },
  "orig_nbformat": 4
 },
 "nbformat": 4,
 "nbformat_minor": 2
}
