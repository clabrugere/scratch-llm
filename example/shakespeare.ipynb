{
 "cells": [
  {
   "cell_type": "markdown",
   "metadata": {},
   "source": [
    "# Imports\n"
   ]
  },
  {
   "cell_type": "code",
   "execution_count": 1,
   "metadata": {},
   "outputs": [],
   "source": [
    "%load_ext autoreload\n",
    "%autoreload 2"
   ]
  },
  {
   "cell_type": "code",
   "execution_count": 2,
   "metadata": {},
   "outputs": [],
   "source": [
    "import sys\n",
    "\n",
    "sys.path.append(\"..\")\n",
    "\n",
    "from pathlib import Path\n",
    "import matplotlib.pyplot as plt\n",
    "import torch\n",
    "\n",
    "from model.llm import LLM\n",
    "from model.tokenizer import Tokenizer, train_tokenizer\n",
    "\n",
    "from helpers.dataset import NextTokenPredictionDataset\n",
    "from helpers.trainer import train\n",
    "from helpers.config import LLMConfig, TrainingConfig"
   ]
  },
  {
   "cell_type": "markdown",
   "metadata": {},
   "source": [
    "# Set config"
   ]
  },
  {
   "cell_type": "code",
   "execution_count": 3,
   "metadata": {},
   "outputs": [],
   "source": [
    "llm_config = LLMConfig(\n",
    "    vocab_size=2_000,\n",
    "    context_size=64,\n",
    "    dim_emb=512,\n",
    "    num_layers=4,\n",
    "    num_heads=8,\n",
    "    emb_dropout=0.0,\n",
    "    ffd_bias=True,\n",
    "    ffd_dropout=0.0,\n",
    ")\n",
    "\n",
    "train_config = TrainingConfig(\n",
    "    retrain_tokenizer=True, batch_size=64, learning_rate=1e-4, weight_decay=1e-5, max_steps=4_000, log_frequency=1\n",
    ")"
   ]
  },
  {
   "cell_type": "markdown",
   "metadata": {},
   "source": [
    "# Prepare tokenizer and dataset\n"
   ]
  },
  {
   "cell_type": "code",
   "execution_count": 4,
   "metadata": {},
   "outputs": [
    {
     "name": "stderr",
     "output_type": "stream",
     "text": [
      "sentencepiece_trainer.cc(77) LOG(INFO) Starts training with : \n",
      "trainer_spec {\n",
      "  input: ../data/shakespeare/tinyshakespeare.txt\n",
      "  input_format: \n",
      "  model_prefix: ../data/shakespeare/tinyshakespeare\n",
      "  model_type: UNIGRAM\n",
      "  vocab_size: 2000\n",
      "  self_test_sample_size: 0\n",
      "  character_coverage: 0.9995\n",
      "  input_sentence_size: 1000000\n",
      "  shuffle_input_sentence: 1\n",
      "  seed_sentencepiece_size: 1000000\n",
      "  shrinking_factor: 0.75\n",
      "  max_sentence_length: 4192\n",
      "  num_threads: 16\n",
      "  num_sub_iterations: 2\n",
      "  max_sentencepiece_length: 16\n",
      "  split_by_unicode_script: 1\n",
      "  split_by_number: 1\n",
      "  split_by_whitespace: 1\n",
      "  split_digits: 0\n",
      "  pretokenization_delimiter: \n",
      "  treat_whitespace_as_suffix: 0\n",
      "  allow_whitespace_only_pieces: 0\n",
      "  required_chars: \n",
      "  byte_fallback: 0\n",
      "  vocabulary_output_piece_score: 1\n",
      "  train_extremely_large_corpus: 0\n",
      "  hard_vocab_limit: 1\n",
      "  use_all_vocab: 0\n",
      "  unk_id: 1\n",
      "  bos_id: 2\n",
      "  eos_id: 3\n",
      "  pad_id: 0\n",
      "  unk_piece: <unk>\n",
      "  bos_piece: <s>\n",
      "  eos_piece: </s>\n",
      "  pad_piece: <pad>\n",
      "  unk_surface:  ⁇ \n",
      "  enable_differential_privacy: 0\n",
      "  differential_privacy_noise_level: 0\n",
      "  differential_privacy_clipping_threshold: 0\n",
      "}\n",
      "normalizer_spec {\n",
      "  name: nmt_nfkc\n",
      "  add_dummy_prefix: 1\n",
      "  remove_extra_whitespaces: 1\n",
      "  escape_whitespaces: 1\n",
      "  normalization_rule_tsv: \n",
      "}\n",
      "denormalizer_spec {}\n",
      "trainer_interface.cc(351) LOG(INFO) SentenceIterator is not specified. Using MultiFileSentenceIterator.\n",
      "trainer_interface.cc(183) LOG(INFO) Loading corpus: ../data/shakespeare/tinyshakespeare.txt\n",
      "trainer_interface.cc(407) LOG(INFO) Loaded all 32777 sentences\n",
      "trainer_interface.cc(423) LOG(INFO) Adding meta_piece: <pad>\n",
      "trainer_interface.cc(423) LOG(INFO) Adding meta_piece: <unk>\n",
      "trainer_interface.cc(423) LOG(INFO) Adding meta_piece: <s>\n",
      "trainer_interface.cc(423) LOG(INFO) Adding meta_piece: </s>\n",
      "trainer_interface.cc(428) LOG(INFO) Normalizing sentences...\n",
      "trainer_interface.cc(537) LOG(INFO) all chars count=1108153\n",
      "trainer_interface.cc(548) LOG(INFO) Done: 99.9692% characters are covered.\n",
      "trainer_interface.cc(558) LOG(INFO) Alphabet size=59\n",
      "trainer_interface.cc(559) LOG(INFO) Final character coverage=0.999692\n",
      "trainer_interface.cc(591) LOG(INFO) Done! preprocessed 32777 sentences.\n",
      "unigram_model_trainer.cc(222) LOG(INFO) Making suffix array...\n",
      "unigram_model_trainer.cc(226) LOG(INFO) Extracting frequent sub strings... node_num=563788\n",
      "unigram_model_trainer.cc(274) LOG(INFO) Initialized 33662 seed sentencepieces\n",
      "trainer_interface.cc(597) LOG(INFO) Tokenizing input sentences with whitespace: 32777\n",
      "trainer_interface.cc(608) LOG(INFO) Done! 25670\n",
      "unigram_model_trainer.cc(564) LOG(INFO) Using 25670 sentences for EM training\n",
      "unigram_model_trainer.cc(580) LOG(INFO) EM sub_iter=0 size=12635 obj=11.7318 num_tokens=52726 num_tokens/piece=4.17301\n",
      "unigram_model_trainer.cc(580) LOG(INFO) EM sub_iter=1 size=10764 obj=9.49501 num_tokens=53076 num_tokens/piece=4.93088\n",
      "unigram_model_trainer.cc(580) LOG(INFO) EM sub_iter=0 size=8070 obj=9.50511 num_tokens=56370 num_tokens/piece=6.98513\n",
      "unigram_model_trainer.cc(580) LOG(INFO) EM sub_iter=1 size=8067 obj=9.46589 num_tokens=56420 num_tokens/piece=6.99393\n",
      "unigram_model_trainer.cc(580) LOG(INFO) EM sub_iter=0 size=6049 obj=9.65571 num_tokens=61693 num_tokens/piece=10.1989\n",
      "unigram_model_trainer.cc(580) LOG(INFO) EM sub_iter=1 size=6048 obj=9.61202 num_tokens=61692 num_tokens/piece=10.2004\n",
      "unigram_model_trainer.cc(580) LOG(INFO) EM sub_iter=0 size=4536 obj=9.88694 num_tokens=68011 num_tokens/piece=14.9936\n",
      "unigram_model_trainer.cc(580) LOG(INFO) EM sub_iter=1 size=4536 obj=9.83503 num_tokens=68008 num_tokens/piece=14.9929\n",
      "unigram_model_trainer.cc(580) LOG(INFO) EM sub_iter=0 size=3402 obj=10.161 num_tokens=74969 num_tokens/piece=22.0367\n",
      "unigram_model_trainer.cc(580) LOG(INFO) EM sub_iter=1 size=3402 obj=10.1105 num_tokens=74968 num_tokens/piece=22.0364\n",
      "unigram_model_trainer.cc(580) LOG(INFO) EM sub_iter=0 size=2551 obj=10.4682 num_tokens=81963 num_tokens/piece=32.1298\n",
      "unigram_model_trainer.cc(580) LOG(INFO) EM sub_iter=1 size=2551 obj=10.4149 num_tokens=81968 num_tokens/piece=32.1317\n",
      "unigram_model_trainer.cc(580) LOG(INFO) EM sub_iter=0 size=2200 obj=10.6451 num_tokens=85831 num_tokens/piece=39.0141\n",
      "unigram_model_trainer.cc(580) LOG(INFO) EM sub_iter=1 size=2200 obj=10.6164 num_tokens=85823 num_tokens/piece=39.0105\n",
      "trainer_interface.cc(686) LOG(INFO) Saving model: ../data/shakespeare/tinyshakespeare.model\n",
      "trainer_interface.cc(698) LOG(INFO) Saving vocabs: ../data/shakespeare/tinyshakespeare.vocab\n"
     ]
    }
   ],
   "source": [
    "input_file = \"../data/shakespeare/tinyshakespeare.txt\"\n",
    "output_file = Path(input_file).with_suffix(\".model\")\n",
    "\n",
    "if not output_file.exists() or train_config.retrain_tokenizer:\n",
    "    train_tokenizer(input_file, llm_config.vocab_size)\n",
    "\n",
    "tokenizer = Tokenizer(str(output_file))"
   ]
  },
  {
   "cell_type": "code",
   "execution_count": 5,
   "metadata": {},
   "outputs": [
    {
     "name": "stdout",
     "output_type": "stream",
     "text": [
      "['▁The', '▁', 'ro', 'le', '▁of', '▁the', '▁to', 'k', 'en', 'ize', 'r', '▁is', '▁to', '▁bu', 'il', 'd', '▁a', '▁m', 'app', 'ing', '▁between', '▁a', '▁sentence', 's', '▁re', 'p', 're', 's', 'ent', 'ed', '▁as', '▁a', '▁str', 'ing', '▁and', '▁to', 'k', 'en', '▁in', 'd', 'ice', 's']\n"
     ]
    }
   ],
   "source": [
    "sentence = \"The role of the tokenizer is to build a mapping between a sentences represented as a string and token indices\"\n",
    "print(tokenizer.sp.EncodeAsPieces(sentence))\n",
    "\n",
    "assert tokenizer.decode(tokenizer.encode(sentence)) == sentence"
   ]
  },
  {
   "cell_type": "code",
   "execution_count": 6,
   "metadata": {},
   "outputs": [
    {
     "name": "stdout",
     "output_type": "stream",
     "text": [
      "torch.Size([1, 64]) torch.Size([1, 64])\n"
     ]
    }
   ],
   "source": [
    "# This helper class allow to generate batches of inputs and targets where targets last element is the next token to predict\n",
    "ds_train = NextTokenPredictionDataset(input_file, llm_config.context_size, tokenizer)\n",
    "\n",
    "X, y = ds_train.get_batch(batch_size=1)\n",
    "\n",
    "print(X.shape, y.shape)\n"
   ]
  },
  {
   "cell_type": "markdown",
   "metadata": {},
   "source": [
    "# Define model\n"
   ]
  },
  {
   "cell_type": "code",
   "execution_count": 7,
   "metadata": {},
   "outputs": [
    {
     "name": "stdout",
     "output_type": "stream",
     "text": [
      "total params: 10,451,408\n",
      "learnable params: 10,451,408\n",
      "model size: 40.010MB\n"
     ]
    }
   ],
   "source": [
    "model = LLM(\n",
    "    vocab_size=tokenizer.vocab_size,\n",
    "    context_size=llm_config.context_size,\n",
    "    dim_emb=llm_config.dim_emb,\n",
    "    num_layers=llm_config.num_layers,\n",
    "    attn_num_heads=llm_config.num_heads,\n",
    "    emb_dropout=llm_config.emb_dropout,\n",
    "    ffd_bias=llm_config.ffd_bias,\n",
    "    ffd_dropout=llm_config.ffd_dropout\n",
    ")\n",
    "\n",
    "param_size = 0\n",
    "for param in model.parameters():\n",
    "    param_size += param.nelement() * param.element_size()\n",
    "buffer_size = 0\n",
    "for buffer in model.buffers():\n",
    "    buffer_size += buffer.nelement() * buffer.element_size()\n",
    "\n",
    "size_all_mb = (param_size + buffer_size) / 1024**2\n",
    "\n",
    "print(f\"total params: {sum(p.numel() for p in model.parameters()):,d}\")\n",
    "print(f\"learnable params: {sum(p.numel() for p in model.parameters() if p.requires_grad):,d}\")\n",
    "print(f\"model size: {size_all_mb:.3f}MB\")\n",
    "\n",
    "#print(model)"
   ]
  },
  {
   "cell_type": "markdown",
   "metadata": {},
   "source": [
    "# Train model\n"
   ]
  },
  {
   "cell_type": "code",
   "execution_count": 8,
   "metadata": {},
   "outputs": [
    {
     "name": "stdout",
     "output_type": "stream",
     "text": [
      "Step 4000/4000 - LR:0.0001 - train_loss: 0.306\r"
     ]
    }
   ],
   "source": [
    "loss_history = train(\n",
    "    model,\n",
    "    ds_train,\n",
    "    batch_size=train_config.batch_size,\n",
    "    lr=train_config.learning_rate,\n",
    "    max_steps=train_config.max_steps,\n",
    "    weight_decay=train_config.weight_decay,\n",
    "    log_every=train_config.log_frequency,\n",
    ")"
   ]
  },
  {
   "cell_type": "code",
   "execution_count": 12,
   "metadata": {},
   "outputs": [
    {
     "data": {
      "image/png": "[encoded data removed]",
      "text/plain": [
       "<Figure size 1200x400 with 1 Axes>"
      ]
     },
     "metadata": {},
     "output_type": "display_data"
    }
   ],
   "source": [
    "fig, ax = plt.subplots(figsize=(12, 4))\n",
    "ax.plot(range(len(loss_history[\"train_loss\"])), loss_history[\"train_loss\"])\n",
    "ax.set_xlabel(\"step\")\n",
    "ax.set_ylabel(\"cross entropy loss\")\n",
    "ax.grid(axis=\"y\")"
   ]
  },
  {
   "cell_type": "markdown",
   "metadata": {},
   "source": [
    "# Play around"
   ]
  },
  {
   "cell_type": "code",
   "execution_count": 16,
   "metadata": {},
   "outputs": [
    {
     "data": {
      "text/plain": [
       "\"'s endsant. What cheer of rottens he in these wants? Looks? Why comest thou in these arms? If thou\""
      ]
     },
     "execution_count": 16,
     "metadata": {},
     "output_type": "execute_result"
    }
   ],
   "source": [
    "# empty prompt to generate random stuff\n",
    "prompt = torch.full((1, llm_config.context_size), tokenizer.pad_id, dtype=torch.int32)\n",
    "out = model.generate(prompt, max_seq_len=30)\n",
    "tokenizer.decode(out)"
   ]
  },
  {
   "cell_type": "code",
   "execution_count": 19,
   "metadata": {},
   "outputs": [
    {
     "data": {
      "text/plain": [
       "'To be, or not to be: that is the question. KING RICHARD III: But in your mouth of these deaths, if I be not of your woes, But you loseld till my'"
      ]
     },
     "execution_count": 19,
     "metadata": {},
     "output_type": "execute_result"
    }
   ],
   "source": [
    "# generate from a prompt\n",
    "prompt = tokenizer.encode(\"To be, or not to be: that is the question.\", beg_of_string=True, pad_seq=True, seq_len=llm_config.context_size).view(1, -1)\n",
    "out = model.generate(prompt, max_seq_len=30)\n",
    "tokenizer.decode(out)"
   ]
  },
  {
   "cell_type": "code",
   "execution_count": null,
   "metadata": {},
   "outputs": [],
   "source": []
  }
 ],
 "metadata": {
  "kernelspec": {
   "display_name": "scratch-llm",
   "language": "python",
   "name": "python3"
  },
  "language_info": {
   "codemirror_mode": {
    "name": "ipython",
    "version": 3
   },
   "file_extension": ".py",
   "mimetype": "text/x-python",
   "name": "python",
   "nbconvert_exporter": "python",
   "pygments_lexer": "ipython3",
   "version": "3.11.5"
  },
  "orig_nbformat": 4
 },
 "nbformat": 4,
 "nbformat_minor": 2
}
