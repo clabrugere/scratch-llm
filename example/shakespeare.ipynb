{
 "cells": [
  {
   "cell_type": "markdown",
   "metadata": {},
   "source": [
    "# Imports\n"
   ]
  },
  {
   "cell_type": "code",
   "execution_count": 1,
   "metadata": {},
   "outputs": [],
   "source": [
    "%load_ext autoreload\n",
    "%autoreload 2"
   ]
  },
  {
   "cell_type": "code",
   "execution_count": 2,
   "metadata": {},
   "outputs": [],
   "source": [
    "import sys\n",
    "\n",
    "sys.path.append(\"..\")\n",
    "\n",
    "import os\n",
    "import matplotlib.pyplot as plt\n",
    "import torch\n",
    "\n",
    "from model.llm import LLM\n",
    "from model.tokenizer import Tokenizer, train_tokenizer\n",
    "\n",
    "from helpers.dataset import NextTokenPredictionDataset\n",
    "from helpers.trainer import train\n",
    "from helpers.config import LLMConfig, TrainingConfig"
   ]
  },
  {
   "cell_type": "markdown",
   "metadata": {},
   "source": [
    "# Set config"
   ]
  },
  {
   "cell_type": "code",
   "execution_count": 3,
   "metadata": {},
   "outputs": [],
   "source": [
    "llm_config = LLMConfig(\n",
    "    vocab_size=512,\n",
    "    context_size=64,\n",
    "    dim_emb=512,\n",
    "    num_layers=4,\n",
    "    num_heads=16\n",
    ")\n",
    "\n",
    "train_config = TrainingConfig(\n",
    "    retrain_tokenizer=True,\n",
    "    batch_size=128,\n",
    "    learning_rate=1e-4,\n",
    "    max_steps=100,\n",
    "    log_frequency=1\n",
    ")"
   ]
  },
  {
   "cell_type": "markdown",
   "metadata": {},
   "source": [
    "# Prepare tokenizer and dataset\n"
   ]
  },
  {
   "cell_type": "code",
   "execution_count": 19,
   "metadata": {},
   "outputs": [
    {
     "name": "stderr",
     "output_type": "stream",
     "text": [
      "sentencepiece_trainer.cc(177) LOG(INFO) Running command: --input=../data/shakespeare/alllines.txt --vocab_size=512 --model_prefix=../data/shakespeare/tokenizer --pad_id=0 --unk_id=1 --bos_id=2 --eos_id=3\n",
      "sentencepiece_trainer.cc(77) LOG(INFO) Starts training with : \n",
      "trainer_spec {\n",
      "  input: ../data/shakespeare/alllines.txt\n",
      "  input_format: \n",
      "  model_prefix: ../data/shakespeare/tokenizer\n",
      "  model_type: UNIGRAM\n",
      "  vocab_size: 512\n",
      "  self_test_sample_size: 0\n",
      "  character_coverage: 0.9995\n",
      "  input_sentence_size: 0\n",
      "  shuffle_input_sentence: 1\n",
      "  seed_sentencepiece_size: 1000000\n",
      "  shrinking_factor: 0.75\n",
      "  max_sentence_length: 4192\n",
      "  num_threads: 16\n",
      "  num_sub_iterations: 2\n",
      "  max_sentencepiece_length: 16\n",
      "  split_by_unicode_script: 1\n",
      "  split_by_number: 1\n",
      "  split_by_whitespace: 1\n",
      "  split_digits: 0\n",
      "  pretokenization_delimiter: \n",
      "  treat_whitespace_as_suffix: 0\n",
      "  allow_whitespace_only_pieces: 0\n",
      "  required_chars: \n",
      "  byte_fallback: 0\n",
      "  vocabulary_output_piece_score: 1\n",
      "  train_extremely_large_corpus: 0\n",
      "  hard_vocab_limit: 1\n",
      "  use_all_vocab: 0\n",
      "  unk_id: 1\n",
      "  bos_id: 2\n",
      "  eos_id: 3\n",
      "  pad_id: 0\n",
      "  unk_piece: <unk>\n",
      "  bos_piece: <s>\n",
      "  eos_piece: </s>\n",
      "  pad_piece: <pad>\n",
      "  unk_surface:  ⁇ \n",
      "  enable_differential_privacy: 0\n",
      "  differential_privacy_noise_level: 0\n",
      "  differential_privacy_clipping_threshold: 0\n",
      "}\n",
      "normalizer_spec {\n",
      "  name: nmt_nfkc\n",
      "  add_dummy_prefix: 1\n",
      "  remove_extra_whitespaces: 1\n",
      "  escape_whitespaces: 1\n",
      "  normalization_rule_tsv: \n",
      "}\n",
      "denormalizer_spec {}\n",
      "trainer_interface.cc(351) LOG(INFO) SentenceIterator is not specified. Using MultiFileSentenceIterator.\n",
      "trainer_interface.cc(183) LOG(INFO) Loading corpus: ../data/shakespeare/alllines.txt\n",
      "trainer_interface.cc(407) LOG(INFO) Loaded all 111396 sentences\n",
      "trainer_interface.cc(423) LOG(INFO) Adding meta_piece: <pad>\n",
      "trainer_interface.cc(423) LOG(INFO) Adding meta_piece: <unk>\n",
      "trainer_interface.cc(423) LOG(INFO) Adding meta_piece: <s>\n",
      "trainer_interface.cc(423) LOG(INFO) Adding meta_piece: </s>\n",
      "trainer_interface.cc(428) LOG(INFO) Normalizing sentences...\n",
      "trainer_interface.cc(537) LOG(INFO) all chars count=4364873\n",
      "trainer_interface.cc(548) LOG(INFO) Done: 99.9609% characters are covered.\n",
      "trainer_interface.cc(558) LOG(INFO) Alphabet size=57\n",
      "trainer_interface.cc(559) LOG(INFO) Final character coverage=0.999609\n",
      "trainer_interface.cc(591) LOG(INFO) Done! preprocessed 111396 sentences.\n",
      "unigram_model_trainer.cc(222) LOG(INFO) Making suffix array...\n",
      "unigram_model_trainer.cc(226) LOG(INFO) Extracting frequent sub strings... node_num=2237260\n",
      "unigram_model_trainer.cc(274) LOG(INFO) Initialized 74458 seed sentencepieces\n",
      "trainer_interface.cc(597) LOG(INFO) Tokenizing input sentences with whitespace: 111396\n",
      "trainer_interface.cc(608) LOG(INFO) Done! 60637\n",
      "unigram_model_trainer.cc(564) LOG(INFO) Using 60637 sentences for EM training\n",
      "unigram_model_trainer.cc(580) LOG(INFO) EM sub_iter=0 size=27118 obj=10.9273 num_tokens=125857 num_tokens/piece=4.64109\n",
      "unigram_model_trainer.cc(580) LOG(INFO) EM sub_iter=1 size=22588 obj=8.64674 num_tokens=126797 num_tokens/piece=5.61347\n",
      "unigram_model_trainer.cc(580) LOG(INFO) EM sub_iter=0 size=16941 obj=8.62779 num_tokens=134661 num_tokens/piece=7.94882\n",
      "unigram_model_trainer.cc(580) LOG(INFO) EM sub_iter=1 size=16931 obj=8.60819 num_tokens=134773 num_tokens/piece=7.96013\n",
      "unigram_model_trainer.cc(580) LOG(INFO) EM sub_iter=0 size=12697 obj=8.72077 num_tokens=146145 num_tokens/piece=11.5102\n",
      "unigram_model_trainer.cc(580) LOG(INFO) EM sub_iter=1 size=12697 obj=8.69528 num_tokens=146154 num_tokens/piece=11.5109\n",
      "unigram_model_trainer.cc(580) LOG(INFO) EM sub_iter=0 size=9522 obj=8.85349 num_tokens=159491 num_tokens/piece=16.7497\n",
      "unigram_model_trainer.cc(580) LOG(INFO) EM sub_iter=1 size=9522 obj=8.82225 num_tokens=159486 num_tokens/piece=16.7492\n",
      "unigram_model_trainer.cc(580) LOG(INFO) EM sub_iter=0 size=7141 obj=9.0255 num_tokens=174196 num_tokens/piece=24.3938\n",
      "unigram_model_trainer.cc(580) LOG(INFO) EM sub_iter=1 size=7141 obj=8.98877 num_tokens=174213 num_tokens/piece=24.3962\n",
      "unigram_model_trainer.cc(580) LOG(INFO) EM sub_iter=0 size=5355 obj=9.23956 num_tokens=189635 num_tokens/piece=35.4127\n",
      "unigram_model_trainer.cc(580) LOG(INFO) EM sub_iter=1 size=5355 obj=9.19758 num_tokens=189628 num_tokens/piece=35.4114\n",
      "unigram_model_trainer.cc(580) LOG(INFO) EM sub_iter=0 size=4016 obj=9.49684 num_tokens=205097 num_tokens/piece=51.07\n",
      "unigram_model_trainer.cc(580) LOG(INFO) EM sub_iter=1 size=4016 obj=9.44944 num_tokens=205088 num_tokens/piece=51.0677\n",
      "unigram_model_trainer.cc(580) LOG(INFO) EM sub_iter=0 size=3012 obj=9.80474 num_tokens=220465 num_tokens/piece=73.1956\n",
      "unigram_model_trainer.cc(580) LOG(INFO) EM sub_iter=1 size=3012 obj=9.75092 num_tokens=220476 num_tokens/piece=73.1992\n",
      "unigram_model_trainer.cc(580) LOG(INFO) EM sub_iter=0 size=2259 obj=10.1464 num_tokens=235527 num_tokens/piece=104.262\n",
      "unigram_model_trainer.cc(580) LOG(INFO) EM sub_iter=1 size=2259 obj=10.088 num_tokens=235475 num_tokens/piece=104.239\n",
      "unigram_model_trainer.cc(580) LOG(INFO) EM sub_iter=0 size=1694 obj=10.5252 num_tokens=249393 num_tokens/piece=147.221\n",
      "unigram_model_trainer.cc(580) LOG(INFO) EM sub_iter=1 size=1694 obj=10.4616 num_tokens=249405 num_tokens/piece=147.228\n",
      "unigram_model_trainer.cc(580) LOG(INFO) EM sub_iter=0 size=1270 obj=10.9274 num_tokens=263647 num_tokens/piece=207.596\n",
      "unigram_model_trainer.cc(580) LOG(INFO) EM sub_iter=1 size=1270 obj=10.8557 num_tokens=263683 num_tokens/piece=207.624\n",
      "unigram_model_trainer.cc(580) LOG(INFO) EM sub_iter=0 size=952 obj=11.3611 num_tokens=276996 num_tokens/piece=290.962\n",
      "unigram_model_trainer.cc(580) LOG(INFO) EM sub_iter=1 size=952 obj=11.2725 num_tokens=277024 num_tokens/piece=290.992\n",
      "unigram_model_trainer.cc(580) LOG(INFO) EM sub_iter=0 size=714 obj=11.834 num_tokens=290589 num_tokens/piece=406.987\n",
      "unigram_model_trainer.cc(580) LOG(INFO) EM sub_iter=1 size=714 obj=11.7318 num_tokens=290549 num_tokens/piece=406.931\n",
      "unigram_model_trainer.cc(580) LOG(INFO) EM sub_iter=0 size=563 obj=12.2203 num_tokens=302034 num_tokens/piece=536.472\n",
      "unigram_model_trainer.cc(580) LOG(INFO) EM sub_iter=1 size=563 obj=12.1202 num_tokens=302060 num_tokens/piece=536.519\n",
      "trainer_interface.cc(686) LOG(INFO) Saving model: ../data/shakespeare/tokenizer.model\n",
      "trainer_interface.cc(698) LOG(INFO) Saving vocabs: ../data/shakespeare/tokenizer.vocab\n"
     ]
    }
   ],
   "source": [
    "input_file = \"../data/shakespeare/alllines.txt\"\n",
    "output_path = \"../data/shakespeare\"\n",
    "\n",
    "tokenizer_model_file = os.path.join(os.path.dirname(input_file), \"tokenizer.model\")\n",
    "if not os.path.exists(tokenizer_model_file) or train_config.retrain_tokenizer:\n",
    "    train_tokenizer(input_file, llm_config.vocab_size, tokenizer_model_file)\n",
    "\n",
    "tokenizer = Tokenizer(tokenizer_model_file)"
   ]
  },
  {
   "cell_type": "code",
   "execution_count": 20,
   "metadata": {},
   "outputs": [
    {
     "name": "stdout",
     "output_type": "stream",
     "text": [
      "['▁The', '▁r', 'o', 'le', '▁of', '▁the', '▁to', 'ke', 'n', 'i', 'z', 'er', '▁is', '▁to', '▁b', 'u', 'il', 'd', '▁a', '▁ma', 'pp', 'ing', '▁be', 't', 'w', 'e', 'en', '▁', 's', 'u', 'b', 'w', 'or', 'd', 's', '▁and', '▁to', 'ke', 'n', '▁in', 'd', 'ice', 's']\n"
     ]
    }
   ],
   "source": [
    "sentence = \"The role of the tokenizer is to build a mapping between subwords and token indices\"\n",
    "print(tokenizer.sp.EncodeAsPieces(sentence))\n",
    "\n",
    "assert tokenizer.decode(tokenizer.encode(sentence)) == sentence"
   ]
  },
  {
   "cell_type": "code",
   "execution_count": 21,
   "metadata": {},
   "outputs": [
    {
     "data": {
      "text/plain": [
       "(tensor([[ 19,  25,  16,  94,   4, 114, 281, 204, 385,  15, 157, 186,  11, 292,\n",
       "           24, 383,  57, 120, 143,  19, 409,   5, 150,   9,  11, 397,  24, 113,\n",
       "          160, 313, 223,  80, 215,   7,  16,  37,   8, 265, 121,   4, 403, 439,\n",
       "           24, 482,  44,  73, 191, 277,   9,  48,  76,   4,   6, 291,  38,   6,\n",
       "          508,  13,  45,  14, 252, 116,  34,  64]], dtype=torch.int32),\n",
       " tensor([[ 25,  16,  94,   4, 114, 281, 204, 385,  15, 157, 186,  11, 292,  24,\n",
       "          383,  57, 120, 143,  19, 409,   5, 150,   9,  11, 397,  24, 113, 160,\n",
       "          313, 223,  80, 215,   7,  16,  37,   8, 265, 121,   4, 403, 439,  24,\n",
       "          482,  44,  73, 191, 277,   9,  48,  76,   4,   6, 291,  38,   6, 508,\n",
       "           13,  45,  14, 252, 116,  34,  64,  34]]))"
      ]
     },
     "execution_count": 21,
     "metadata": {},
     "output_type": "execute_result"
    }
   ],
   "source": [
    "# This helper class allow to generate batches of inputs and targets where targets last element is the next token to predict\n",
    "ds_train = NextTokenPredictionDataset(input_file, llm_config.context_size, tokenizer)\n",
    "\n",
    "ds_train.get_batch(batch_size=1)"
   ]
  },
  {
   "cell_type": "markdown",
   "metadata": {},
   "source": [
    "# Define model\n"
   ]
  },
  {
   "cell_type": "code",
   "execution_count": 22,
   "metadata": {},
   "outputs": [
    {
     "name": "stdout",
     "output_type": "stream",
     "text": [
      "total params: 8,927,744\n",
      "learnable params: 8,927,744\n",
      "LLM(\n",
      "  (token_embedding): Embedding(512, 512)\n",
      "  (emb_dropout): Dropout(p=0.0, inplace=False)\n",
      "  (transformer): Sequential(\n",
      "    (0): TransformerBlock(\n",
      "      (pos_encoding): CosinePositionalEncoding()\n",
      "      (norm_1): RMSNorm()\n",
      "      (multihead_attn): MultiHeadAttention(\n",
      "        (projection_query): Linear(in_features=512, out_features=512, bias=False)\n",
      "        (projection_key): Linear(in_features=512, out_features=512, bias=False)\n",
      "        (projection_value): Linear(in_features=512, out_features=512, bias=False)\n",
      "        (projection_out): Linear(in_features=512, out_features=512, bias=False)\n",
      "      )\n",
      "      (norm_2): RMSNorm()\n",
      "      (feed_forward): FeedForward(\n",
      "        (_layers): Sequential(\n",
      "          (0): Linear(in_features=512, out_features=512, bias=True)\n",
      "          (1): RMSNorm()\n",
      "          (2): SwiGLU(\n",
      "            (linear): Linear(in_features=512, out_features=1024, bias=True)\n",
      "          )\n",
      "          (3): Linear(in_features=512, out_features=512, bias=True)\n",
      "        )\n",
      "      )\n",
      "    )\n",
      "    (1): TransformerBlock(\n",
      "      (pos_encoding): CosinePositionalEncoding()\n",
      "      (norm_1): RMSNorm()\n",
      "      (multihead_attn): MultiHeadAttention(\n",
      "        (projection_query): Linear(in_features=512, out_features=512, bias=False)\n",
      "        (projection_key): Linear(in_features=512, out_features=512, bias=False)\n",
      "        (projection_value): Linear(in_features=512, out_features=512, bias=False)\n",
      "        (projection_out): Linear(in_features=512, out_features=512, bias=False)\n",
      "      )\n",
      "      (norm_2): RMSNorm()\n",
      "      (feed_forward): FeedForward(\n",
      "        (_layers): Sequential(\n",
      "          (0): Linear(in_features=512, out_features=512, bias=True)\n",
      "          (1): RMSNorm()\n",
      "          (2): SwiGLU(\n",
      "            (linear): Linear(in_features=512, out_features=1024, bias=True)\n",
      "          )\n",
      "          (3): Linear(in_features=512, out_features=512, bias=True)\n",
      "        )\n",
      "      )\n",
      "    )\n",
      "    (2): TransformerBlock(\n",
      "      (pos_encoding): CosinePositionalEncoding()\n",
      "      (norm_1): RMSNorm()\n",
      "      (multihead_attn): MultiHeadAttention(\n",
      "        (projection_query): Linear(in_features=512, out_features=512, bias=False)\n",
      "        (projection_key): Linear(in_features=512, out_features=512, bias=False)\n",
      "        (projection_value): Linear(in_features=512, out_features=512, bias=False)\n",
      "        (projection_out): Linear(in_features=512, out_features=512, bias=False)\n",
      "      )\n",
      "      (norm_2): RMSNorm()\n",
      "      (feed_forward): FeedForward(\n",
      "        (_layers): Sequential(\n",
      "          (0): Linear(in_features=512, out_features=512, bias=True)\n",
      "          (1): RMSNorm()\n",
      "          (2): SwiGLU(\n",
      "            (linear): Linear(in_features=512, out_features=1024, bias=True)\n",
      "          )\n",
      "          (3): Linear(in_features=512, out_features=512, bias=True)\n",
      "        )\n",
      "      )\n",
      "    )\n",
      "    (3): TransformerBlock(\n",
      "      (pos_encoding): CosinePositionalEncoding()\n",
      "      (norm_1): RMSNorm()\n",
      "      (multihead_attn): MultiHeadAttention(\n",
      "        (projection_query): Linear(in_features=512, out_features=512, bias=False)\n",
      "        (projection_key): Linear(in_features=512, out_features=512, bias=False)\n",
      "        (projection_value): Linear(in_features=512, out_features=512, bias=False)\n",
      "        (projection_out): Linear(in_features=512, out_features=512, bias=False)\n",
      "      )\n",
      "      (norm_2): RMSNorm()\n",
      "      (feed_forward): FeedForward(\n",
      "        (_layers): Sequential(\n",
      "          (0): Linear(in_features=512, out_features=512, bias=True)\n",
      "          (1): RMSNorm()\n",
      "          (2): SwiGLU(\n",
      "            (linear): Linear(in_features=512, out_features=1024, bias=True)\n",
      "          )\n",
      "          (3): Linear(in_features=512, out_features=512, bias=True)\n",
      "        )\n",
      "      )\n",
      "    )\n",
      "  )\n",
      "  (projection_head): Linear(in_features=512, out_features=512, bias=True)\n",
      ")\n"
     ]
    }
   ],
   "source": [
    "model = LLM(\n",
    "    vocab_size=llm_config.vocab_size,\n",
    "    context_size=llm_config.context_size,\n",
    "    dim_emb=llm_config.dim_emb,\n",
    "    num_layers=llm_config.num_layers,\n",
    "    attn_num_heads=llm_config.num_heads,\n",
    ")\n",
    "\n",
    "print(f\"total params: {sum(p.numel() for p in model.parameters()):,d}\")\n",
    "print(f\"learnable params: {sum(p.numel() for p in model.parameters() if p.requires_grad):,d}\")\n",
    "print(model)"
   ]
  },
  {
   "cell_type": "markdown",
   "metadata": {},
   "source": [
    "# Train model\n"
   ]
  },
  {
   "cell_type": "code",
   "execution_count": 23,
   "metadata": {},
   "outputs": [
    {
     "name": "stdout",
     "output_type": "stream",
     "text": [
      "Step 100/100 - train_loss: 4.534\r"
     ]
    }
   ],
   "source": [
    "loss_history = train(\n",
    "    model,\n",
    "    ds_train,\n",
    "    batch_size=train_config.batch_size,\n",
    "    lr=train_config.learning_rate,\n",
    "    max_steps=train_config.max_steps,\n",
    "    log_every=train_config.log_frequency,\n",
    ")"
   ]
  },
  {
   "cell_type": "code",
   "execution_count": 24,
   "metadata": {},
   "outputs": [
    {
     "data": {
      "text/plain": [
       "[<matplotlib.lines.Line2D at 0x2841aa850>]"
      ]
     },
     "execution_count": 24,
     "metadata": {},
     "output_type": "execute_result"
    },
    {
     "data": {
      "image/png": "[encoded data removed]",
      "text/plain": [
       "<Figure size 1200x400 with 1 Axes>"
      ]
     },
     "metadata": {},
     "output_type": "display_data"
    }
   ],
   "source": [
    "fig, ax = plt.subplots(figsize=(12, 4))\n",
    "ax.plot(range(len(loss_history[\"train_loss\"])), loss_history[\"train_loss\"])"
   ]
  },
  {
   "cell_type": "markdown",
   "metadata": {},
   "source": [
    "# Play around"
   ]
  },
  {
   "cell_type": "code",
   "execution_count": 25,
   "metadata": {},
   "outputs": [],
   "source": [
    "# empty prompt to generate random stuff\n",
    "prompt = torch.zeros((1, llm_config.context_size), dtype=torch.long)\n",
    "out = model.generate(prompt, max_seq_len=50)"
   ]
  },
  {
   "cell_type": "code",
   "execution_count": 26,
   "metadata": {},
   "outputs": [
    {
     "data": {
      "text/plain": [
       "'ENO a my lords ment in and proon, a noidL, Good greatp thee, Gu so it arry to be, ifilingvar as of bid you proing my So I'"
      ]
     },
     "execution_count": 26,
     "metadata": {},
     "output_type": "execute_result"
    }
   ],
   "source": [
    "tokenizer.decode(out)"
   ]
  }
 ],
 "metadata": {
  "kernelspec": {
   "display_name": "scratch-llm",
   "language": "python",
   "name": "python3"
  },
  "language_info": {
   "codemirror_mode": {
    "name": "ipython",
    "version": 3
   },
   "file_extension": ".py",
   "mimetype": "text/x-python",
   "name": "python",
   "nbconvert_exporter": "python",
   "pygments_lexer": "ipython3",
   "version": "3.11.5"
  },
  "orig_nbformat": 4
 },
 "nbformat": 4,
 "nbformat_minor": 2
}
